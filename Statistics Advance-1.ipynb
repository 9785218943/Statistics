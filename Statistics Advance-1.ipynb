{
 "cells": [
  {
   "cell_type": "markdown",
   "id": "c3619aa4-a433-4180-9eeb-21156805f958",
   "metadata": {},
   "source": [
    "# Q1. What is the Probability density function?"
   ]
  },
  {
   "cell_type": "markdown",
   "id": "7c1563ae-f031-49e3-85b2-54963b279fa5",
   "metadata": {},
   "source": [
    "Ans=A probability density function (PDF) is a statistical function that describes the likelihood of a continuous random variable taking on a particular value. In other words, it defines the probability distribution of a continuous random variable. The PDF provides a way to model and analyze the uncertainty associated with continuous random variables, such as height, weight, temperature, or any other measurement that can take on an infinite number of values within a range.\n",
    "\n",
    "Mathematically, a PDF is a non-negative function f(x) defined for all possible values of the random variable x, such that:\n",
    "\n",
    "The integral of the PDF over its entire range is equal to 1:\n",
    "\n",
    "∫ f(x) dx = 1\n",
    "\n",
    "The probability that the random variable falls within a specific interval [a, b] is given by the integral of the PDF over that interval:\n",
    "\n",
    "P(a ≤ x ≤ b) = ∫[a, b] f(x) dx\n",
    "\n",
    "The PDF is often used to describe and visualize the shape of a probability distribution. Common examples of probability density functions include the normal distribution, uniform distribution, exponential distribution, and many others. These functions are essential tools in probability and statistics for modeling and understanding the behavior of random variables."
   ]
  },
  {
   "cell_type": "markdown",
   "id": "b8d37d81-a831-4622-b328-16f9cc85e2df",
   "metadata": {},
   "source": [
    "# Q2. What are the types of Probability distribution?"
   ]
  },
  {
   "cell_type": "markdown",
   "id": "fa75f1c6-dc6e-46ec-8746-051a9a0eba35",
   "metadata": {},
   "source": [
    "Ans=There are several types of probability distributions used in statistics to describe the likelihood of different outcomes for random variables. These distributions can be categorized into two main groups: discrete probability distributions and continuous probability distributions. Here are some of the most commonly encountered probability distributions within these categories:\n",
    "\n",
    "Discrete Probability Distributions:\n",
    "\n",
    "Bernoulli Distribution: This distribution models a binary outcome, where a random variable can take only two possible values (usually 0 and 1) with different probabilities.\n",
    "\n",
    "Binomial Distribution: It describes the number of successes in a fixed number of independent Bernoulli trials.\n",
    "\n",
    "Poisson Distribution: This distribution models the number of events occurring in a fixed interval of time or space, given a known average rate of occurrence.\n",
    "\n",
    "Geometric Distribution: It represents the number of trials required for the first success in a sequence of independent Bernoulli trials.\n",
    "\n",
    "Hypergeometric Distribution: Used for sampling without replacement, it models the number of successes in a sample drawn from a finite population.\n",
    "\n",
    "Continuous Probability Distributions:\n",
    "\n",
    "Normal Distribution (Gaussian Distribution): This is one of the most widely used distributions, and it describes many natural phenomena. It has a bell-shaped curve and is characterized by mean and standard deviation.\n",
    "\n",
    "Uniform Distribution: In a uniform distribution, all values within a certain interval are equally likely."
   ]
  },
  {
   "cell_type": "markdown",
   "id": "08d27e0c-7a3e-4ab4-a07d-a98e18961bd0",
   "metadata": {},
   "source": [
    "# Q3. Write a Python function to calculate the probability density function of a normal distribution with given mean and standard deviation at a given point."
   ]
  },
  {
   "cell_type": "markdown",
   "id": "d3360610-8e18-41dd-8da3-a1277c7ade7b",
   "metadata": {},
   "source": [
    "Ans=calculate the probability density function (PDF) of a normal distribution at a given point using the probability density function formula for the normal distribution. "
   ]
  },
  {
   "cell_type": "code",
   "execution_count": 1,
   "id": "71caa906-cb99-44f2-9178-f3d9b362560f",
   "metadata": {},
   "outputs": [],
   "source": [
    "import numpy as np\n",
    "import scipy.stats as stats"
   ]
  },
  {
   "cell_type": "code",
   "execution_count": 3,
   "id": "047449c9-6572-49e6-a869-b81cb25bff9d",
   "metadata": {},
   "outputs": [],
   "source": [
    "def normal_pdf(x, mean, std_dev):\n",
    "    \"\"\"\n",
    "    Calculate the probability density function (PDF) of a normal distribution at a given point.\n",
    "\n",
    "    Parameters:\n",
    "    x (float): The point at which to calculate the PDF.\n",
    "    mean (float): The mean (average) of the normal distribution.\n",
    "    std_dev (float): The standard deviation of the normal distribution.\n",
    "\n",
    "    Returns:\n",
    "    float: The PDF value at the given point.\n",
    "    \"\"\"\n",
    "    pdf = stats.norm.pdf(x, loc=mean, scale=std_dev)\n",
    "    return pdf\n",
    "\n"
   ]
  },
  {
   "cell_type": "code",
   "execution_count": 4,
   "id": "7538a77b-fcab-4a2f-8e83-f38b206a9f7d",
   "metadata": {},
   "outputs": [
    {
     "name": "stdout",
     "output_type": "stream",
     "text": [
      "The PDF at x = 2.0 is 0.2130\n"
     ]
    }
   ],
   "source": [
    "# Example usage:\n",
    "mean = 3.0\n",
    "std_dev = 1.5\n",
    "x_value = 2.0\n",
    "pdf_value = normal_pdf(x_value, mean, std_dev)\n",
    "print(f\"The PDF at x = {x_value} is {pdf_value:.4f}\")"
   ]
  },
  {
   "cell_type": "markdown",
   "id": "e6063c92-7a72-40b8-b94f-da9dbd0aff5a",
   "metadata": {},
   "source": [
    "# Q4. What are the properties of Binomial distribution? Give two examples of events where binomial distribution can be applied."
   ]
  },
  {
   "cell_type": "markdown",
   "id": "a02ead34-220f-407b-854a-d38c8023b597",
   "metadata": {},
   "source": [
    "Ans=The Binomial distribution is a discrete probability distribution that models the number of successes in a fixed number of independent Bernoulli trials. It has several key properties:\n",
    "\n",
    "Fixed Number of Trials (n): The binomial distribution is used when you have a fixed number of trials or experiments (n), each with only two possible outcomes: success or failure.\n",
    "\n",
    "Independent Trials: Each trial is independent of the others. The outcome of one trial does not affect the outcome of the next.\n",
    "\n",
    "Constant Probability of Success (p): The probability of success (often denoted as p) is the same for each trial. The probability of failure (q) is complementary to p and is often expressed as q = 1 - p.\n",
    "\n",
    "Discrete: The binomial random variable, which represents the number of successes, is a discrete variable. It can take on integer values from 0 to n, inclusive.\n",
    "\n",
    "Probability Mass Function (PMF): The probability mass function of the binomial distribution gives the probability of getting exactly k successes in n trials and is given by the formula:\n",
    "\n",
    "P(X = k) = (n choose k) * p^k * q^(n-k)\n",
    "\n",
    "where (n choose k) is the binomial coefficient, equal to n! / (k!(n-k)!).\n",
    "\n",
    "Mean and Variance: The mean (expected value) of the binomial distribution is μ = np, and the variance is σ^2 = npq.\n",
    "\n",
    "Two common examples of events or scenarios where the binomial distribution can be applied are:\n",
    "\n",
    "Coin Flips: When you flip a fair coin multiple times (a fixed number of trials), and you want to know the probability of getting a certain number of heads (successes) in those trials. For example, you might want to know the probability of getting 3 heads in 5 coin flips.\n",
    "\n",
    "Quality Control: In a manufacturing process, you are inspecting a fixed number of items (trials) for defects, and each item can be either defective (success) or non-defective (failure). You want to calculate the probability of finding a certain number of defective items in the sample. For instance, determining the probability of finding exactly 2 defective items in a sample of 10."
   ]
  },
  {
   "cell_type": "markdown",
   "id": "ab5b4c9d-01e8-4bfe-a1c0-17dac226ab78",
   "metadata": {},
   "source": [
    "# Q5. Generate a random sample of size 1000 from a binomial distribution with probability of success 0.4 and plot a histogram of the results using matplotlib."
   ]
  },
  {
   "cell_type": "code",
   "execution_count": 5,
   "id": "5c157846-4aa5-4718-a83d-8f0266ad885c",
   "metadata": {},
   "outputs": [],
   "source": [
    "import numpy as np\n",
    "import matplotlib.pyplot as plt"
   ]
  },
  {
   "cell_type": "code",
   "execution_count": 6,
   "id": "0291db05-c833-4dc5-b88b-6c2f5d635472",
   "metadata": {},
   "outputs": [
    {
     "data": {
      "image/png": "[encoded data removed]",
      "text/plain": [
       "<Figure size 640x480 with 1 Axes>"
      ]
     },
     "metadata": {},
     "output_type": "display_data"
    }
   ],
   "source": [
    "sample_size = 1000\n",
    "probability_of_success = 0.4\n",
    "random_sample = np.random.binomial(1,probability_of_success,sample_size)\n",
    "plt.hist(random_sample,bins=[-0.5,0.5,1.5],edgecolor='black',alpha=0.75)\n",
    "plt.xlabel('Number of successes')\n",
    "plt.ylabel('Frequency')\n",
    "plt.title('Binomial Distribution Histogram')\n",
    "plt.xticks([0,1],['Failure','Success'])\n",
    "plt.show()"
   ]
  },
  {
   "cell_type": "code",
   "execution_count": null,
   "id": "0d519b49-84b1-48f8-b6ee-b83d44d078a2",
   "metadata": {},
   "outputs": [],
   "source": []
  },
  {
   "cell_type": "code",
   "execution_count": null,
   "id": "c2a8670c-e6ce-437a-92f1-7df56be63901",
   "metadata": {},
   "outputs": [],
   "source": []
  }
 ],
 "metadata": {
  "kernelspec": {
   "display_name": "Python 3 (ipykernel)",
   "language": "python",
   "name": "python3"
  },
  "language_info": {
   "codemirror_mode": {
    "name": "ipython",
    "version": 3
   },
   "file_extension": ".py",
   "mimetype": "text/x-python",
   "name": "python",
   "nbconvert_exporter": "python",
   "pygments_lexer": "ipython3",
   "version": "3.10.8"
  }
 },
 "nbformat": 4,
 "nbformat_minor": 5
}
