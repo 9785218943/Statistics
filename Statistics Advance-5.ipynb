{
 "cells": [
  {
   "cell_type": "markdown",
   "id": "9877b4ba-d7f3-4406-ba4e-efcb1b33439b",
   "metadata": {},
   "source": [
    "# Q1. Calculate the 95% confidence interval for a sample of data with a mean of 50 and a standard deviation of 5 using Python. Interpret the results."
   ]
  },
  {
   "cell_type": "code",
   "execution_count": 1,
   "id": "c1ca74e7-aa63-44f5-bdc0-f9ba578e3a53",
   "metadata": {},
   "outputs": [
    {
     "name": "stdout",
     "output_type": "stream",
     "text": [
      "95% Confidence Interval: (48.1329693162095, 51.8670306837905)\n"
     ]
    }
   ],
   "source": [
    "import scipy.stats as stats\n",
    "\n",
    "sample_mean = 50\n",
    "sample_std = 5\n",
    "sample_size = 30\n",
    "\n",
    "standard_error = sample_std / (sample_size**0.5)\n",
    "confidence_level = 0.95\n",
    "degrees_of_freedom = sample_size -1\n",
    "\n",
    "margin_of_error = stats.t.ppf((1 + confidence_level) / 2, degrees_of_freedom) * standard_error\n",
    "lower_bound = sample_mean - margin_of_error\n",
    "upper_bound = sample_mean + margin_of_error\n",
    "\n",
    "print(f\"95% Confidence Interval: ({lower_bound}, {upper_bound})\")"
   ]
  },
  {
   "cell_type": "markdown",
   "id": "f31570bc-d670-41e2-8067-49572244b0ad",
   "metadata": {},
   "source": [
    "# Q2. Conduct a chi-square goodness of fit test to determine if the distribution of colors of M&Ms in a bag matches the expected distribution of 20% blue, 20% orange, 20% green, 10% yellow, 10% red, and 20%\n",
    "# brown. Use Python to perform the test with a significance level of 0.05."
   ]
  },
  {
   "cell_type": "code",
   "execution_count": 1,
   "id": "bd69fccc-881f-48c0-b0fd-fe36dcc90d17",
   "metadata": {},
   "outputs": [
    {
     "name": "stdout",
     "output_type": "stream",
     "text": [
      "Reject the null hypothesis: The distribution of M&M colors does not match the expected distribution.\n",
      "Chi-Square Statistic: 66.7098976109215\n"
     ]
    }
   ],
   "source": [
    "import scipy.stats as stats\n",
    "observed_counts = [25,48,55,65,35,65]\n",
    "expected_proportions = [0.20,0.20,0.20,0.10,0.10,0.20]\n",
    "\n",
    "total_count = sum(observed_counts)\n",
    "expected_counts = [prop * total_count for prop in expected_proportions]\n",
    "\n",
    "# Perform the chi-square goodness of fit test\n",
    "chi_square, p_value = stats.chisquare(observed_counts, f_exp=expected_counts)\n",
    "\n",
    "alpha = 0.05\n",
    "\n",
    "# Compare the p-value to the significance level\n",
    "if p_value < alpha:\n",
    "    print(\"Reject the null hypothesis: The distribution of M&M colors does not match the expected distribution.\")\n",
    "else:\n",
    "    print(\"Fail to reject the null hypothesis: The distribution of M&M colors matches the expected distribution.\")\n",
    "\n",
    "print(f\"Chi-Square Statistic: {chi_square}\")"
   ]
  },
  {
   "cell_type": "markdown",
   "id": "416154f9-bd7d-4608-84d8-5014b226aa67",
   "metadata": {},
   "source": [
    "# Q3. Use Python to calculate the chi-square statistic and p-value for a contingency table with the following\n",
    "# data:Group A,GroupB\n",
    "\n",
    "# Outcome 1 20 15\n",
    "# Outcome 2 10 25\n",
    "# Outcome 3 15 20"
   ]
  },
  {
   "cell_type": "code",
   "execution_count": 2,
   "id": "40d2cc16-816a-4b18-b7c4-b5e912294d3a",
   "metadata": {},
   "outputs": [],
   "source": [
    "import numpy as np\n",
    "from scipy.stats import chi2_contingency"
   ]
  },
  {
   "cell_type": "code",
   "execution_count": 3,
   "id": "20a2a029-e023-482f-959a-98b426354df7",
   "metadata": {},
   "outputs": [
    {
     "name": "stdout",
     "output_type": "stream",
     "text": [
      "Chi-square statistic: 5.833333333333334\n",
      "P-value: 0.05411376622282158\n"
     ]
    }
   ],
   "source": [
    "observed_data = np.array([[20,15],\n",
    "                          [10,25],\n",
    "                          [15,20]])\n",
    "chi2, p ,dof, expected = chi2_contingency(observed_data)\n",
    "\n",
    "print(f\"Chi-square statistic: {chi2}\")\n",
    "print(f\"P-value: {p}\")"
   ]
  },
  {
   "cell_type": "markdown",
   "id": "eb2036e4-30cb-4eff-9a87-b1b40c6cad27",
   "metadata": {},
   "source": [
    "# Q4. A study of the prevalence of smoking in a population of 500 individuals found that 60 individuals smoked. Use Python to calculate the 95% confidence interval for the true proportion of individuals in the\n",
    "# population who smoke."
   ]
  },
  {
   "cell_type": "code",
   "execution_count": 4,
   "id": "18454eb5-bd27-404d-8d29-477706ebebf5",
   "metadata": {},
   "outputs": [],
   "source": [
    "import numpy as np\n",
    "from scipy.stats import norm"
   ]
  },
  {
   "cell_type": "code",
   "execution_count": 5,
   "id": "376c9d11-cc6e-453c-95ba-cb1242bd6d8d",
   "metadata": {},
   "outputs": [
    {
     "name": "stdout",
     "output_type": "stream",
     "text": [
      "95% Confidence Interval: (0.0915, 0.1485)\n"
     ]
    }
   ],
   "source": [
    "n = 500 \n",
    "x = 60\n",
    "p_hat = x/n\n",
    "\n",
    "confidence_level = 0.95\n",
    "alpha = 1 - confidence_level\n",
    "\n",
    "z_critical = norm.ppf(1 - alpha / 2)\n",
    "margin_of_error = z_critical * np.sqrt((p_hat * (1 - p_hat)) / n)\n",
    "\n",
    "# Calculate the confidence interval\n",
    "lower_bound = p_hat - margin_of_error\n",
    "upper_bound = p_hat + margin_of_error\n",
    "\n",
    "print(f\"95% Confidence Interval: ({lower_bound:.4f}, {upper_bound:.4f})\")"
   ]
  },
  {
   "cell_type": "markdown",
   "id": "36d84567-3e51-41a7-b640-833c4c3a3b46",
   "metadata": {},
   "source": [
    "# Q5. Calculate the 90% confidence interval for a sample of data with a mean of 75 and a standard deviation of 12 using Python. Interpret the results."
   ]
  },
  {
   "cell_type": "code",
   "execution_count": 6,
   "id": "369540a8-80e1-4f4a-b618-f3aa700ad535",
   "metadata": {},
   "outputs": [
    {
     "name": "stdout",
     "output_type": "stream",
     "text": [
      "90% Confidence Interval: (71.2774, 78.7226)\n"
     ]
    }
   ],
   "source": [
    "import numpy as np\n",
    "from scipy.stats import t\n",
    "\n",
    "sample_mean = 75\n",
    "sample_std = 12\n",
    "\n",
    "n = 30  # You would replace this with the actual sample size\n",
    "\n",
    "confidence_level = 0.90\n",
    "alpha = 1 - confidence_level\n",
    "\n",
    "df = n - 1\n",
    "\n",
    "t_critical = t.ppf(1 - alpha / 2, df)\n",
    "\n",
    "# Calculate the margin of error\n",
    "margin_of_error = t_critical * (sample_std / np.sqrt(n))\n",
    "\n",
    "# Calculate the confidence interval\n",
    "lower_bound = sample_mean - margin_of_error\n",
    "upper_bound = sample_mean + margin_of_error\n",
    "\n",
    "print(f\"90% Confidence Interval: ({lower_bound:.4f}, {upper_bound:.4f})\")"
   ]
  },
  {
   "cell_type": "markdown",
   "id": "7fe0a807-fc6d-4df4-b571-c9115f2e1c8e",
   "metadata": {},
   "source": [
    "# Q6. Use Python to plot the chi-square distribution with 10 degrees of freedom. Label the axes and shade the area corresponding to a chi-square statistic of 15."
   ]
  },
  {
   "cell_type": "code",
   "execution_count": 7,
   "id": "fba19d7f-26af-44d3-b6e0-a166f5f8addd",
   "metadata": {},
   "outputs": [
    {
     "data": {
      "image/png": "[encoded data removed]",
      "text/plain": [
       "<Figure size 640x480 with 1 Axes>"
      ]
     },
     "metadata": {},
     "output_type": "display_data"
    }
   ],
   "source": [
    "import numpy as np\n",
    "import matplotlib.pyplot as plt\n",
    "from scipy.stats import chi2\n",
    "\n",
    "# Degrees of freedom\n",
    "df = 10\n",
    "\n",
    "# Create a range of x values\n",
    "x = np.linspace(0, 30, 1000)\n",
    "\n",
    "# Calculate the chi-square probability density function (PDF) for the given degrees of freedom\n",
    "pdf = chi2.pdf(x, df)\n",
    "\n",
    "# Create the plot\n",
    "plt.plot(x, pdf, label=f'Chi-square (df={df})', color='b')\n",
    "\n",
    "x_shaded = np.linspace(0, 15, 1000)\n",
    "pdf_shaded = chi2.pdf(x_shaded, df)\n",
    "plt.fill_between(x_shaded, pdf_shaded, color='r', alpha=0.5, label='Chi-square < 15')\n",
    "\n",
    "plt.xlabel('Chi-square Statistic')\n",
    "plt.ylabel('Probability Density')\n",
    "plt.legend()\n",
    "\n",
    "plt.show()"
   ]
  },
  {
   "cell_type": "markdown",
   "id": "a0379ca4-dd17-46af-a3ac-db95e94916a6",
   "metadata": {},
   "source": [
    "# Q7. A random sample of 1000 people was asked if they preferred Coke or Pepsi. Of the sample, 520 preferred Coke. Calculate a 99% confidence interval for the true proportion of people in the population who prefer Coke."
   ]
  },
  {
   "cell_type": "code",
   "execution_count": 8,
   "id": "b028e08a-d056-4d5f-9db5-587f80b919b9",
   "metadata": {},
   "outputs": [
    {
     "name": "stdout",
     "output_type": "stream",
     "text": [
      "99% Confidence Interval: (0.4793, 0.5607)\n"
     ]
    }
   ],
   "source": [
    "import numpy as np\n",
    "from scipy.stats import norm\n",
    "\n",
    "n = 1000\n",
    "x = 520\n",
    "\n",
    "p_hat = x / n\n",
    "\n",
    "confidence_level = 0.99\n",
    "alpha = 1 - confidence_level\n",
    "\n",
    "# Calculate the critical value for the confidence interval\n",
    "z_critical = norm.ppf(1 - alpha / 2)\n",
    "\n",
    "# Calculate the margin of error\n",
    "margin_of_error = z_critical * np.sqrt((p_hat * (1 - p_hat)) / n)\n",
    "\n",
    "# Calculate the confidence interval\n",
    "lower_bound = p_hat - margin_of_error\n",
    "upper_bound = p_hat + margin_of_error\n",
    "\n",
    "print(f\"99% Confidence Interval: ({lower_bound:.4f}, {upper_bound:.4f})\")"
   ]
  },
  {
   "cell_type": "markdown",
   "id": "75459554-23b8-462d-8517-15bf26b6a7c6",
   "metadata": {},
   "source": [
    "# Q8. A researcher hypothesizes that a coin is biased towards tails. They flip the coin 100 times and observe 45 tails. Conduct a chi-square goodness of fit test to determine if the observed frequencies match the\n",
    "# expected frequencies of a fair coin. Use a significance level of 0.05."
   ]
  },
  {
   "cell_type": "code",
   "execution_count": 9,
   "id": "49beb1a2-234f-42cc-9812-4d90d663eb4d",
   "metadata": {},
   "outputs": [
    {
     "name": "stdout",
     "output_type": "stream",
     "text": [
      "Chi-square statistic: 1.0\n",
      "Degrees of freedom: 1\n",
      "Critical chi-square value: 3.841458820694124\n",
      "P-value: 0.31731050786291415\n",
      "Fail to reject the null hypothesis: The coin is not biased.\n"
     ]
    }
   ],
   "source": [
    "import numpy as np\n",
    "from scipy.stats import chi2\n",
    "\n",
    "# Observed frequencies\n",
    "observed_frequencies = np.array([45, 55])  # 45 tails, 55 heads\n",
    "\n",
    "# Expected frequencies for a fair coin (equal probability)\n",
    "expected_frequencies = np.array([50, 50])\n",
    "\n",
    "# Set the significance level\n",
    "alpha = 0.05\n",
    "\n",
    "# Calculate the chi-square statistic\n",
    "chi2_statistic = np.sum((observed_frequencies - expected_frequencies)**2 / expected_frequencies)\n",
    "\n",
    "\n",
    "degrees_of_freedom = len(observed_frequencies) - 1\n",
    "\n",
    "chi2_critical = chi2.ppf(1 - alpha, degrees_of_freedom)\n",
    "\n",
    "# Compare the chi-square statistic to the critical value\n",
    "p_value = 1 - chi2.cdf(chi2_statistic, degrees_of_freedom)\n",
    "\n",
    "# Print the results\n",
    "print(f\"Chi-square statistic: {chi2_statistic}\")\n",
    "print(f\"Degrees of freedom: {degrees_of_freedom}\")\n",
    "print(f\"Critical chi-square value: {chi2_critical}\")\n",
    "print(f\"P-value: {p_value}\")\n",
    "\n",
    "\n",
    "if chi2_statistic > chi2_critical:\n",
    "    print(\"Reject the null hypothesis: The coin is biased.\")\n",
    "else:\n",
    "    print(\"Fail to reject the null hypothesis: The coin is not biased.\")"
   ]
  },
  {
   "cell_type": "markdown",
   "id": "468bf479-17e9-4708-b459-b3bbb2bce318",
   "metadata": {},
   "source": [
    "# Q9. A study was conducted to determine if there is an association between smoking status (smoker ornon-smoker) and lung cancer diagnosis (yes or no). The results are shown in the contingency table below.Conduct a chi-square test for independence to determine if there is a significant association between\n",
    "# smoking status and lung cancer diagnosis.\n",
    "\n",
    "# Use a significance level of 0.05.\n",
    "# Group A\n",
    "\n",
    "# Outcome 1 20 15\n",
    "# Outcome 2 10 25\n",
    "#  Outcome 3 15 20\n",
    "# Group B\n",
    "\n",
    "# Lung Cancer: Yes\n",
    "\n",
    "# Smoker 60 140\n",
    "# Non-smoker 30 170"
   ]
  },
  {
   "cell_type": "code",
   "execution_count": 10,
   "id": "efe7ca1d-a2b1-4011-a148-aa38558e265e",
   "metadata": {},
   "outputs": [
    {
     "name": "stdout",
     "output_type": "stream",
     "text": [
      "Chi-square statistic: 12.057347670250895\n",
      "P-value: 0.0005158863863703744\n",
      "Degrees of freedom: 1\n",
      "Expected frequencies:\n",
      "[[ 45. 155.]\n",
      " [ 45. 155.]]\n",
      "Reject the null hypothesis: There is a significant association between smoking status and lung cancer diagnosis.\n"
     ]
    }
   ],
   "source": [
    "import numpy as np\n",
    "from scipy.stats import chi2_contingency\n",
    "\n",
    "# Create a 2D array representing the contingency table\n",
    "observed_data = np.array([[60, 140],\n",
    "                          [30, 170]])\n",
    "\n",
    "# Calculate the chi-square statistic, p-value, degrees of freedom, and expected frequencies\n",
    "chi2, p, dof, expected = chi2_contingency(observed_data)\n",
    "\n",
    "# Set the significance level\n",
    "alpha = 0.05\n",
    "\n",
    "print(f\"Chi-square statistic: {chi2}\")\n",
    "print(f\"P-value: {p}\")\n",
    "print(f\"Degrees of freedom: {dof}\")\n",
    "print(\"Expected frequencies:\")\n",
    "print(expected)\n",
    "\n",
    "\n",
    "if p < alpha:\n",
    "    print(\"Reject the null hypothesis: There is a significant association between smoking status and lung cancer diagnosis.\")\n",
    "else:\n",
    "    print(\"Fail to reject the null hypothesis: There is no significant association between smoking status and lung cancer diagnosis.\")"
   ]
  },
  {
   "cell_type": "markdown",
   "id": "d532c3e0-c24c-4299-b0ec-ca261944c0ae",
   "metadata": {},
   "source": [
    "# Q10. A study was conducted to determine if the proportion of people who prefer milk chocolate, dark chocolate, or white chocolate is different in the U.S. versus the U.K. A random sample of 500 people from\n",
    "# the U.S. and a random sample of 500 people from the U.K. were surveyed. The results are shown in the contingency table below. Conduct a chi-square test for independence to determine if there is a significant\n",
    "# association between chocolate preference and country of origin.\n",
    "# Use a significance level of 0.01."
   ]
  },
  {
   "cell_type": "markdown",
   "id": "3bc5f5e9-6dc3-4999-97cf-9ef9265d7f24",
   "metadata": {},
   "source": [
    "U.S. (n=500) 200 150 150\n",
    "U.K. (n=500) 225 175 100"
   ]
  },
  {
   "cell_type": "code",
   "execution_count": 11,
   "id": "d1ff2863-013a-4ba2-bd97-228d78df8d75",
   "metadata": {},
   "outputs": [
    {
     "name": "stdout",
     "output_type": "stream",
     "text": [
      "Chi-square statistic: 13.393665158371041\n",
      "P-value: 0.0012348168997745918\n",
      "Degrees of freedom: 2\n",
      "Expected frequencies:\n",
      "[[212.5 162.5 125. ]\n",
      " [212.5 162.5 125. ]]\n",
      "Reject the null hypothesis: There is a significant association between chocolate preference and country of origin.\n"
     ]
    }
   ],
   "source": [
    "import numpy as np\n",
    "from scipy.stats import chi2_contingency\n",
    "\n",
    "# Create a 2D array representing the contingency table\n",
    "observed_data = np.array([[200, 150, 150],\n",
    "                          [225, 175, 100]])\n",
    "\n",
    "# Calculate the chi-square statistic, p-value, degrees of freedom, and expected frequencies\n",
    "chi2, p, dof, expected = chi2_contingency(observed_data)\n",
    "\n",
    "# Set the significance level\n",
    "alpha = 0.01\n",
    "\n",
    "# Print the results\n",
    "print(f\"Chi-square statistic: {chi2}\")\n",
    "print(f\"P-value: {p}\")\n",
    "print(f\"Degrees of freedom: {dof}\")\n",
    "print(\"Expected frequencies:\")\n",
    "print(expected)\n",
    "\n",
    "# Determine whether to reject the null hypothesis\n",
    "if p < alpha:\n",
    "    print(\"Reject the null hypothesis: There is a significant association between chocolate preference and country of origin.\")\n",
    "else:\n",
    "    print(\"Fail to reject the null hypothesis: There is no significant association between chocolate preference and country of origin.\")"
   ]
  },
  {
   "cell_type": "markdown",
   "id": "b6d44752-2a85-4fba-9fd9-6450b3bf1fcc",
   "metadata": {},
   "source": [
    "# Q11. A random sample of 30 people was selected from a population with an unknown mean and standard deviation. The sample mean was found to be 72 and the sample standard deviation was found to be 10.\n",
    "# Conduct a hypothesis test to determine if the population mean is significantly different from 70. Use a\n",
    "# significance level of 0.05."
   ]
  },
  {
   "cell_type": "code",
   "execution_count": 4,
   "id": "59dce971-4788-4075-8459-d7f95364724f",
   "metadata": {},
   "outputs": [
    {
     "name": "stdout",
     "output_type": "stream",
     "text": [
      "t-statistic: 1.0954451150103321\n",
      "Critical t-value: 2.045229642132703\n",
      "P-value: 0.2823362372860698\n",
      "Fail to reject the null hypothesis: There is no significant difference in the population mean and 70.\n"
     ]
    }
   ],
   "source": [
    "import numpy as np\n",
    "from scipy import stats\n",
    "\n",
    "\n",
    "sample_mean = 72\n",
    "sample_std = 10\n",
    "sample_size = 30\n",
    "\n",
    "\n",
    "population_mean = 70\n",
    "\n",
    "# Set the significance level\n",
    "alpha = 0.05\n",
    "\n",
    "t_statistic = (sample_mean - population_mean) / (sample_std / np.sqrt(sample_size))\n",
    "\n",
    "degrees_of_freedom = sample_size - 1\n",
    "\n",
    "\n",
    "t_critical = stats.t.ppf(1 - alpha / 2, degrees_of_freedom)\n",
    "\n",
    "\n",
    "p_value = 2 * (1 - stats.t.cdf(np.abs(t_statistic), degrees_of_freedom))\n",
    "\n",
    "\n",
    "print(f\"t-statistic: {t_statistic}\")\n",
    "print(f\"Critical t-value: {t_critical}\")\n",
    "print(f\"P-value: {p_value}\")\n",
    "\n",
    "if np.abs(t_statistic) > t_critical:\n",
    "    print(\"Reject the null hypothesis: The population mean is significantly different from 70.\")\n",
    "else:\n",
    "    print(\"Fail to reject the null hypothesis: There is no significant difference in the population mean and 70.\")"
   ]
  },
  {
   "cell_type": "code",
   "execution_count": null,
   "id": "6097bd33-638b-4bf4-bc2b-2d80c195e2c7",
   "metadata": {},
   "outputs": [],
   "source": []
  }
 ],
 "metadata": {
  "kernelspec": {
   "display_name": "Python 3 (ipykernel)",
   "language": "python",
   "name": "python3"
  },
  "language_info": {
   "codemirror_mode": {
    "name": "ipython",
    "version": 3
   },
   "file_extension": ".py",
   "mimetype": "text/x-python",
   "name": "python",
   "nbconvert_exporter": "python",
   "pygments_lexer": "ipython3",
   "version": "3.10.8"
  }
 },
 "nbformat": 4,
 "nbformat_minor": 5
}
