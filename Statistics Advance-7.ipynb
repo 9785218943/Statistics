{
 "cells": [
  {
   "cell_type": "markdown",
   "id": "5fbe315f-c0c6-49ef-8045-0d034ea09630",
   "metadata": {},
   "source": [
    "# Q1. Write a Python function that takes in two arrays of data and calculates the F-value for a variance ratio test. The function should return the F-value and the corresponding p-value for the test."
   ]
  },
  {
   "cell_type": "code",
   "execution_count": 3,
   "id": "fc8bc36b-9898-45fc-b444-ab326bad382a",
   "metadata": {},
   "outputs": [
    {
     "name": "stdout",
     "output_type": "stream",
     "text": [
      "F-value: 1.0\n",
      "p-value: 0.5\n"
     ]
    }
   ],
   "source": [
    "def calculate_f_value(data1, data2):\n",
    "    var1 = np.var(data1, ddof=1)  # ddof=1 sample variance\n",
    "    var2 = np.var(data2,ddof=1)\n",
    "    \n",
    "    f_value  = var1 / var2\n",
    "    \n",
    "# calculate the f -value\n",
    "    df1 = len(data1)  - 1\n",
    "    df2 = len(data2) - 1\n",
    "    \n",
    "# calculate the p-value\n",
    "    p_value = 1 - f.cdf(f_value, df1,df2)\n",
    "    return f_value, p_value\n",
    "\n",
    "data1 = [4,5,6,7,8]\n",
    "data2 = [3,4,2,5,6]\n",
    "f_value, p_value = calculate_f_value(data1,data2)\n",
    "print(f\"F-value: {f_value}\")\n",
    "print(f\"p-value: {p_value}\")"
   ]
  },
  {
   "cell_type": "markdown",
   "id": "e4990e63-6e11-485a-8b7f-19813a2ea227",
   "metadata": {},
   "source": [
    "# Q2. Given a significance level of 0.05 and the degrees of freedom for the numerator and denominator of an F-distribution, write a Python function that returns the critical F-value for a two-tailed test."
   ]
  },
  {
   "cell_type": "code",
   "execution_count": 2,
   "id": "a109523b-f5d4-45ef-8e23-eb6a14eb918b",
   "metadata": {},
   "outputs": [
    {
     "name": "stdout",
     "output_type": "stream",
     "text": [
      "Critical F-value at alpha=0.05 for dfn=3 and dfd=16 is 4.0768\n"
     ]
    }
   ],
   "source": [
    "import scipy.stats as stats\n",
    "def critical_f_value(alpha,dfn,dfd):\n",
    "    # calculate the critical F-value for a two-tailed test\n",
    "    f_critical =  stats.f.ppf(1-alpha / 2, dfn,dfd)\n",
    "    return f_critical\n",
    "alpha = 0.05\n",
    "dfn = 3\n",
    "dfd = 16\n",
    "\n",
    "critical_f = critical_f_value(alpha,dfn,dfd)\n",
    "print(f\"Critical F-value at alpha={alpha} for dfn={dfn} and dfd={dfd} is {critical_f:.4f}\")\n"
   ]
  },
  {
   "cell_type": "markdown",
   "id": "f57d2ab6-2e55-4d76-8612-3ece9578faed",
   "metadata": {},
   "source": [
    "# Q3. Write a Python program that generates random samples from two normal distributions with known variances and uses an F-test to determine if the variances are equal. The program should output the F-\n",
    "#value, degrees of freedom, and p-value for the test."
   ]
  },
  {
   "cell_type": "code",
   "execution_count": 4,
   "id": "3367a425-af37-4d2d-bf5c-caa7c05c7cfb",
   "metadata": {},
   "outputs": [
    {
     "name": "stdout",
     "output_type": "stream",
     "text": [
      "F-statistic: 0.6438\n",
      "Degrees of freedom (numerator, denominator): (29, 29)\n",
      "P-value: 0.2416\n",
      "Fail to reject the null hypothesis: Variances are equal.\n"
     ]
    }
   ],
   "source": [
    "import numpy as np\n",
    "import scipy.stats as stats\n",
    "\n",
    "# Set random seed for reproducibility\n",
    "np.random.seed(0)\n",
    "\n",
    "# Parameters for the two normal distributions\n",
    "mean1 = 0\n",
    "variance1 = 4\n",
    "sample_size1 = 30\n",
    "\n",
    "mean2 = 0\n",
    "variance2 = 9\n",
    "sample_size2 = 30\n",
    "\n",
    "# Generate random samples from the two normal distributions\n",
    "sample1 = np.random.normal(mean1, np.sqrt(variance1), sample_size1)\n",
    "sample2 = np.random.normal(mean2, np.sqrt(variance2), sample_size2)\n",
    "\n",
    "# Perform the F-test to compare variances\n",
    "f_statistic = np.var(sample1, ddof=1) / np.var(sample2, ddof=1)\n",
    "dfn = sample_size1 - 1\n",
    "dfd = sample_size2 - 1\n",
    "p_value = 2 * min(stats.f.cdf(f_statistic, dfn, dfd), 1 - stats.f.cdf(f_statistic, dfn, dfd))\n",
    "\n",
    "\n",
    "print(f\"F-statistic: {f_statistic:.4f}\")\n",
    "print(f\"Degrees of freedom (numerator, denominator): ({dfn}, {dfd})\")\n",
    "print(f\"P-value: {p_value:.4f}\")\n",
    "\n",
    "# Check the p-value against a significance level (e.g., 0.05) to make a decision about variances\n",
    "alpha = 0.05\n",
    "if p_value < alpha:\n",
    "    print(\"Reject the null hypothesis: Variances are not equal.\")\n",
    "else:\n",
    "    print(\"Fail to reject the null hypothesis: Variances are equal.\")\n",
    "\n",
    "\n",
    "\n"
   ]
  },
  {
   "cell_type": "markdown",
   "id": "05224f75-3db8-4124-8868-f84ec9c8acd2",
   "metadata": {},
   "source": [
    "# Q4.The variances of two populations are known to be 10 and 15. A sample of 12 observations is taken from each population. Conduct an F-test at the 5% significance level to determine if the variances are\n",
    "# significantly different."
   ]
  },
  {
   "cell_type": "code",
   "execution_count": 1,
   "id": "fd6efbde-5c3e-4475-b8dc-479d0607769e",
   "metadata": {},
   "outputs": [],
   "source": [
    "import scipy.stats as stats\n"
   ]
  },
  {
   "cell_type": "code",
   "execution_count": 2,
   "id": "e7fcd622-0511-409d-9a4a-508c09f6e0fa",
   "metadata": {},
   "outputs": [
    {
     "name": "stdout",
     "output_type": "stream",
     "text": [
      "Fail to reject the null hypothesis: The variances are not significantly different.\n"
     ]
    }
   ],
   "source": [
    "variance1 = 10\n",
    "variance2 = 15\n",
    "\n",
    "n1 =12\n",
    "n2 =12\n",
    "\n",
    "# degrees of freedom for both population\n",
    "df1 = n1 - 1\n",
    "df2 = n2 -1\n",
    "\n",
    "F_statistic = variance1 / variance2\n",
    "p_value = 1 - stats.f.cdf(F_statistic, df1, df2)\n",
    "alpha = 0.05\n",
    "\n",
    "if p_value < alpha:\n",
    "    print(\"Reject the null hypothesis: The variances are significantly different.\")\n",
    "else:\n",
    "    print(\"Fail to reject the null hypothesis: The variances are not significantly different.\")"
   ]
  },
  {
   "cell_type": "markdown",
   "id": "dd6b9a49-5ca5-4463-b03b-629ab82e043f",
   "metadata": {},
   "source": [
    "# Q5. A manufacturer claims that the variance of the diameter of a certain product is 0.005. A sample of 25\n",
    "# products is taken, and the sample variance is found to be 0.006. Conduct an F-test at the 1% significance level to determine if the claim is justified."
   ]
  },
  {
   "cell_type": "code",
   "execution_count": 3,
   "id": "aaff23a3-b0ae-4993-baab-4d07e59de28c",
   "metadata": {},
   "outputs": [
    {
     "name": "stdout",
     "output_type": "stream",
     "text": [
      "Fail to reject the null hypothesis: The claim is justified.\n"
     ]
    }
   ],
   "source": [
    "import scipy.stats as stats\n",
    "\n",
    "# Define the claimed population variance\n",
    "sigma_squared_claimed = 0.005\n",
    "\n",
    "sample_variance = 0.006\n",
    "sample_size = 25\n",
    "\n",
    "\n",
    "df1 = sample_size - 1\n",
    "\n",
    "# Degrees of freedom for the denominator (claimed population variance)\n",
    "df2 = 1\n",
    "\n",
    "\n",
    "F_statistic = sample_variance / sigma_squared_claimed\n",
    "\n",
    "\n",
    "alpha = 0.01  # 1% significance level\n",
    "\n",
    "\n",
    "F_critical = stats.f.ppf(1 - alpha / 2, df1, df2)\n",
    "\n",
    "# Compare the F-statistic to the critical F-value for a two-tailed test\n",
    "if F_statistic < 1/F_critical or F_statistic > F_critical:\n",
    "    print(\"Reject the null hypothesis: The claim is not justified.\")\n",
    "else:\n",
    "    print(\"Fail to reject the null hypothesis: The claim is justified.\")"
   ]
  },
  {
   "cell_type": "markdown",
   "id": "e7f7b1cf-1742-4e2b-8e39-ba04b5329e53",
   "metadata": {},
   "source": [
    "# Q6. Write a Python function that takes in the degrees of freedom for the numerator and denominator of an F-distribution and calculates the mean and variance of the distribution. The function should return the\n",
    "# mean and variance as a tuple."
   ]
  },
  {
   "cell_type": "code",
   "execution_count": 4,
   "id": "f0d7fdb0-91ec-44c3-b3dc-287b24a06dd2",
   "metadata": {},
   "outputs": [],
   "source": [
    "def f_distribution_mean_and_variance(df1, df2):\n",
    "    if df1 <= 0 or df2 <= 0:\n",
    "        raise ValueError(\"Degrees of freedom must be greater than zero.\")\n",
    "\n",
    "    # Calculate the mean\n",
    "    if df2 > 2:\n",
    "        mean = df2 / (df2 - 2)\n",
    "    else:\n",
    "        mean = float(\"inf\")\n",
    "\n",
    "    # Calculate the variance\n",
    "    if df2 > 4:\n",
    "        variance = (2 * (df2 ** 2 * (df1 + df2 - 2))) / (df1 * (df2 - 2) ** 2 * (df2 - 4))\n",
    "    else:\n",
    "        variance = float(\"inf\")\n",
    "\n",
    "    return mean, variance"
   ]
  },
  {
   "cell_type": "code",
   "execution_count": 5,
   "id": "fe1319f6-398f-49a1-a065-f7b9315eaacf",
   "metadata": {},
   "outputs": [
    {
     "name": "stdout",
     "output_type": "stream",
     "text": [
      "Mean: 1.25\n",
      "Variance: 1.3541666666666667\n"
     ]
    }
   ],
   "source": [
    "df1 = 5\n",
    "df2 = 10\n",
    "mean, variance = f_distribution_mean_and_variance(df1, df2)\n",
    "print(f\"Mean: {mean}\")\n",
    "print(f\"Variance: {variance}\")"
   ]
  },
  {
   "cell_type": "markdown",
   "id": "824f21d4-177e-489e-9a33-c614bfc9e1f5",
   "metadata": {},
   "source": [
    "# Q7. A random sample of 10 measurements is taken from a normal population with unknown variance. The sample variance is found to be 25. Another random sample of 15 measurements is taken from another\n",
    "# normal population with unknown variance, and the sample variance is found to be 20. Conduct an F-test at the 10% significance level to determine if the variances are significantly different."
   ]
  },
  {
   "cell_type": "code",
   "execution_count": 7,
   "id": "ed628c73-290c-4993-9231-d8496f81824a",
   "metadata": {},
   "outputs": [
    {
     "name": "stdout",
     "output_type": "stream",
     "text": [
      "Fail to reject the null hypothesis: The variances are not significantly different.\n"
     ]
    }
   ],
   "source": [
    "import scipy.stats as stats\n",
    "\n",
    "\n",
    "variance1 = 25\n",
    "variance2 = 20\n",
    "\n",
    "n1 = 10\n",
    "n2 = 15\n",
    "\n",
    "df1 = n1 - 1\n",
    "df2 = n2 - 1\n",
    "\n",
    "\n",
    "F_statistic = variance1 / variance2\n",
    "\n",
    "alpha = 0.10  # 10% significance level\n",
    "\n",
    "# Calculate the critical F-value\n",
    "F_critical = stats.f.ppf(1 - alpha / 2, df1, df2)\n",
    "\n",
    "# Compare the F-statistic to the critical F-value for a two-tailed test\n",
    "if F_statistic < 1/F_critical or F_statistic > F_critical:\n",
    "    print(\"Reject the null hypothesis: The variances are significantly different.\")\n",
    "else:\n",
    "    print(\"Fail to reject the null hypothesis: The variances are not significantly different.\")"
   ]
  },
  {
   "cell_type": "markdown",
   "id": "69e00f83-1218-4779-b034-48aa8be7fefa",
   "metadata": {},
   "source": [
    "# Q8. The following data represent the waiting times in minutes at two different restaurants on a Saturday night: Restaurant A: 24, 25, 28, 23, 22, 20, 27; Restaurant B: 31, 33, 35, 30, 32, 36. Conduct an F-test at the 5%\n",
    "# significance level to determine if the variances are significantly different."
   ]
  },
  {
   "cell_type": "code",
   "execution_count": 8,
   "id": "cd505ef6-f00b-4387-8cc2-459cc821c2d2",
   "metadata": {},
   "outputs": [
    {
     "name": "stdout",
     "output_type": "stream",
     "text": [
      "Fail to reject the null hypothesis: The variances are not significantly different.\n"
     ]
    }
   ],
   "source": [
    "import scipy.stats as stats\n",
    "\n",
    "\n",
    "waiting_times_A = [24, 25, 28, 23, 22, 20, 27]\n",
    "waiting_times_B = [31, 33, 35, 30, 32, 36]\n",
    "\n",
    "\n",
    "variance_A = sum((x - sum(waiting_times_A) / len(waiting_times_A))**2 for x in waiting_times_A) / (len(waiting_times_A) - 1)\n",
    "variance_B = sum((x - sum(waiting_times_B) / len(waiting_times_B))**2 for x in waiting_times_B) / (len(waiting_times_B) - 1)\n",
    "\n",
    "\n",
    "df1 = len(waiting_times_A) - 1\n",
    "df2 = len(waiting_times_B) - 1\n",
    "\n",
    "F_statistic = variance_A / variance_B\n",
    "\n",
    "# Set the significance level\n",
    "alpha = 0.05  # 5% significance level\n",
    "\n",
    "\n",
    "F_critical = stats.f.ppf(1 - alpha / 2, df1, df2)\n",
    "\n",
    "# Compare the F-statistic to the critical F-value for a two-tailed test\n",
    "if F_statistic < 1/F_critical or F_statistic > F_critical:\n",
    "    print(\"Reject the null hypothesis: The variances are significantly different.\")\n",
    "else:\n",
    "    print(\"Fail to reject the null hypothesis: The variances are not significantly different.\")"
   ]
  },
  {
   "cell_type": "markdown",
   "id": "c1f5ded4-fc4e-4929-87e1-c881299cb190",
   "metadata": {},
   "source": [
    "# Q9. The following data represent the test scores of two groups of students: Group A: 80, 85, 90, 92, 87, 83; Group B: 75, 78, 82, 79, 81, 84. Conduct an F-test at the 1% significance level to determine if the variances are significantly different."
   ]
  },
  {
   "cell_type": "code",
   "execution_count": 9,
   "id": "e6b9a5f2-e0da-423c-876b-b02a22437b21",
   "metadata": {},
   "outputs": [
    {
     "name": "stdout",
     "output_type": "stream",
     "text": [
      "Fail to reject the null hypothesis: The variances are not significantly different.\n"
     ]
    }
   ],
   "source": [
    "import scipy.stats as stats\n",
    "\n",
    "\n",
    "group_A_scores = [80, 85, 90, 92, 87, 83]\n",
    "group_B_scores = [75, 78, 82, 79, 81, 84]\n",
    "\n",
    "\n",
    "variance_A = sum((x - sum(group_A_scores) / len(group_A_scores))**2 for x in group_A_scores) / (len(group_A_scores) - 1)\n",
    "variance_B = sum((x - sum(group_B_scores) / len(group_B_scores))**2 for x in group_B_scores) / (len(group_B_scores) - 1)\n",
    "\n",
    "\n",
    "df1 = len(group_A_scores) - 1\n",
    "df2 = len(group_B_scores) - 1\n",
    "\n",
    "\n",
    "F_statistic = variance_A / variance_B\n",
    "\n",
    "\n",
    "alpha = 0.01  # 1% significance level\n",
    "\n",
    "F_critical = stats.f.ppf(1 - alpha / 2, df1, df2)\n",
    "\n",
    "# Compare the F-statistic to the critical F-value for a two-tailed test\n",
    "if F_statistic < 1/F_critical or F_statistic > F_critical:\n",
    "    print(\"Reject the null hypothesis: The variances are significantly different.\")\n",
    "else:\n",
    "    print(\"Fail to reject the null hypothesis: The variances are not significantly different.\")"
   ]
  },
  {
   "cell_type": "code",
   "execution_count": null,
   "id": "8db8f3bf-fca9-4db1-a9a4-a700b5de7e34",
   "metadata": {},
   "outputs": [],
   "source": []
  },
  {
   "cell_type": "code",
   "execution_count": null,
   "id": "6b10cf34-69a6-4246-a012-3376641f55aa",
   "metadata": {},
   "outputs": [],
   "source": []
  }
 ],
 "metadata": {
  "kernelspec": {
   "display_name": "Python 3 (ipykernel)",
   "language": "python",
   "name": "python3"
  },
  "language_info": {
   "codemirror_mode": {
    "name": "ipython",
    "version": 3
   },
   "file_extension": ".py",
   "mimetype": "text/x-python",
   "name": "python",
   "nbconvert_exporter": "python",
   "pygments_lexer": "ipython3",
   "version": "3.10.8"
  }
 },
 "nbformat": 4,
 "nbformat_minor": 5
}
