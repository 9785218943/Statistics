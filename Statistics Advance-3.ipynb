{
 "cells": [
  {
   "cell_type": "markdown",
   "id": "0c938822-4a23-4840-9392-39d03949c61b",
   "metadata": {},
   "source": [
    "# Q1: What is Estimation Statistics? Explain point estimate and interval estimate."
   ]
  },
  {
   "cell_type": "markdown",
   "id": "137d276f-5ecd-4bb2-9e84-5d5d46590218",
   "metadata": {},
   "source": [
    "Ans=Estimation statistics is a branch of statistics that deals with the process of making inferences about population parameters (such as means, proportions, variances, etc.) based on information gathered from a sample of data. The goal of estimation statistics is to provide estimates of these population parameters along with a measure of uncertainty or variability associated with those estimates. There are two primary types of estimates in estimation statistics: point estimates and interval estimates.\n",
    "\n",
    "Point Estimate:\n",
    "\n",
    "A point estimate is a single value that is used to estimate a population parameter. It's essentially a best guess or a single value that you believe is the most likely value for the parameter of interest.\n",
    "For example, if you want to estimate the average income of a population based on a sample of individuals, the sample mean (average income of the sample) is a point estimate of the population mean (average income of the entire population).\n",
    "Point estimates are straightforward and easy to calculate, but they do not convey any information about the uncertainty or variability in the estimate. They provide a \"point\" in the parameter space but don't tell you how confident you can be in that point.\n",
    "Interval Estimate:\n",
    "\n",
    "An interval estimate, on the other hand, provides a range of values within which the true population parameter is likely to fall, along with a level of confidence or probability associated with this range.\n",
    "This range is called a confidence interval and is often expressed in terms of a lower limit and an upper limit. It's typically written as [lower limit, upper limit], and it represents a range of plausible values for the parameter.\n",
    "The confidence level is a measure of the reliability of the interval estimate, and it is often expressed as a percentage (e.g., 95% confidence interval).\n",
    "A common way to construct a confidence interval is by using the sample data and statistical techniques to determine the lower and upper bounds of the interval."
   ]
  },
  {
   "cell_type": "markdown",
   "id": "9ceda5f1-b058-4c7b-9c09-3e45dd6b4b8e",
   "metadata": {},
   "source": [
    "# Q2. Write a Python function to estimate the population mean using a sample mean and standard deviation."
   ]
  },
  {
   "cell_type": "code",
   "execution_count": 3,
   "id": "cb2e904b-a4d4-42a5-a6f9-84ba99bf4b57",
   "metadata": {},
   "outputs": [
    {
     "name": "stdout",
     "output_type": "stream",
     "text": [
      "Estimated Population Mean: 50\n"
     ]
    }
   ],
   "source": [
    "def estimate_population_mean(sample_mean,sample_std_dev,sample_size):\n",
    "    estimated_mean = sample_mean\n",
    "    return estimated_mean\n",
    "sample_mean = 50\n",
    "sample_std_dev = 10\n",
    "sample_size= 100\n",
    "estimated_population_mean = estimate_population_mean(sample_mean,sample_std_dev,sample_size)\n",
    "print(f\"Estimated Population Mean: {estimated_population_mean}\")"
   ]
  },
  {
   "cell_type": "markdown",
   "id": "fa0a095d-2121-4673-a9b1-55e818ee4ae8",
   "metadata": {},
   "source": [
    "# Q3: What is Hypothesis testing? Why is it used? State the importance of Hypothesis testing."
   ]
  },
  {
   "cell_type": "markdown",
   "id": "cc01dc8e-1cde-4629-9a7a-e7fce7b3f7c6",
   "metadata": {},
   "source": [
    "Ans=Hypothesis testing is a fundamental concept in statistics used to make inferences and draw conclusions about a population based on sample data. It is a structured and formalized way of testing whether a specific hypothesis about a population parameter is true or not. Hypothesis testing is widely used in scientific research, quality control, business decision-making, and many other fields.\n",
    "\n",
    "Here's a brief overview of the key components and importance of hypothesis testing:\n",
    "\n",
    "Components of Hypothesis Testing:\n",
    "\n",
    "Null Hypothesis (H0): This is the default or status quo hypothesis that there is no effect, no difference, or no change in the population parameter. It represents what you're trying to test or potentially disprove.\n",
    "\n",
    "Alternative Hypothesis (Ha): This is the hypothesis that you're testing as an alternative to the null hypothesis. It represents the claim or effect you want to show exists.\n",
    "\n",
    "Test Statistic: A statistical measure calculated from sample data, which is used to determine whether the null hypothesis should be rejected or not.\n",
    "\n",
    "Significance Level (α): This is the predetermined level of significance that sets the threshold for deciding whether to reject the null hypothesis. Common values include 0.05 and 0.01.\n",
    "\n",
    "P-value: A probability value that indicates how likely the observed results (or more extreme results) would occur if the null hypothesis were true. A smaller p-value suggests stronger evidence against the null hypothesis."
   ]
  },
  {
   "cell_type": "markdown",
   "id": "ba564fa4-dba1-4ac6-a640-59cdb15be24b",
   "metadata": {},
   "source": [
    "Importance of Hypothesis Testing:\n",
    "\n",
    "Informed Decision Making: Hypothesis testing provides a systematic and objective way to make decisions based on data and evidence. It helps determine whether there is a statistically significant effect or difference in the population, which can guide decision-makers.\n",
    "\n",
    "Scientific Research: Hypothesis testing is a cornerstone of scientific research. It allows researchers to test theories, evaluate the impact of interventions, and draw conclusions about the effects of various factors on a population.\n",
    "\n",
    "Quality Control: In manufacturing and process control, hypothesis testing is used to ensure product quality and consistency. It helps identify defects or variations that may require corrective action."
   ]
  },
  {
   "cell_type": "markdown",
   "id": "a86d1017-bad0-42ad-b96e-47716d8c35b7",
   "metadata": {},
   "source": [
    "# Q4. Create a hypothesis that states whether the average weight of male college students is greater than the average weight of female college students."
   ]
  },
  {
   "cell_type": "markdown",
   "id": "af2da935-4751-4428-a85f-35b24bb329b1",
   "metadata": {},
   "source": [
    "Ans=The  formulate a hypothesis to test whether the average weight of male college students is greater than the average weight of female college students. This is a common type of hypothesis used in comparative studies. Let's frame this hypothesis as follows:\n",
    "\n",
    "Null Hypothesis (H0): The average weight of male college students is equal to or less than the average weight of female college students.\n",
    "\n",
    "Alternative Hypothesis (Ha): The average weight of male college students is greater than the average weight of female college students.\n",
    "\n",
    "In symbols:\n",
    "\n",
    "H0: μ_male ≤ μ_female\n",
    "Ha: μ_male > μ_female\n",
    "\n",
    "In this hypothesis, μ_male represents the population mean weight of male college students, and μ_female represents the population mean weight of female college students."
   ]
  },
  {
   "cell_type": "markdown",
   "id": "507d969d-23b1-47a1-80e9-d406411b1daf",
   "metadata": {},
   "source": [
    "# Q5. Write a Python script to conduct a hypothesis test on the difference between two population means, given a sample from each population."
   ]
  },
  {
   "cell_type": "code",
   "execution_count": 6,
   "id": "98ce8d2d-4f82-45bc-aa91-8476f4ab8057",
   "metadata": {},
   "outputs": [
    {
     "name": "stdout",
     "output_type": "stream",
     "text": [
      "Sample 1 Mean: 53.0\n",
      "Sample 2 Mean: 53.0\n",
      "T-statistic: 0.0\n",
      "P_value: 1.0\n",
      "Fail to reject the null hypothesis:There is a significant difference between the population means.\n"
     ]
    }
   ],
   "source": [
    "import numpy as np\n",
    "from scipy import stats\n",
    "\n",
    "population1 = np.array([65,70,75,80,35,30,45,55,50,25])\n",
    "population2 = np.array([25,50,55,45,30,35,80,75,70,65])\n",
    "t_stat,p_value = stats.ttest_ind(population1,population2)\n",
    "alpha = 0.5\n",
    "\n",
    "\n",
    "print(\"Sample 1 Mean:\",np.mean(population1))\n",
    "print(\"Sample 2 Mean:\",np.mean(population2))\n",
    "print(\"T-statistic:\",t_stat)\n",
    "print(\"P_value:\",p_value)\n",
    "\n",
    "if p_value < alpha:\n",
    "    print(\"Reject the null hypothesis: There is a significant difference between the population means.\")\n",
    "    \n",
    "else:\n",
    "    print(\"Fail to reject the null hypothesis:There is a significant difference between the population means.\")"
   ]
  },
  {
   "cell_type": "markdown",
   "id": "5bba8abc-753b-4d0d-b15e-b607ecd771cb",
   "metadata": {},
   "source": [
    "# Q6: What is a null and alternative hypothesis? Give some examples."
   ]
  },
  {
   "cell_type": "markdown",
   "id": "3f20b88b-ca0c-42b3-a382-2c328c4f486a",
   "metadata": {},
   "source": [
    "Ans=n statistical hypothesis testing, the null hypothesis (H0) and the alternative hypothesis (Ha) are essential components used to make statistical inferences about a population or a phenomenon. They are formulated to represent opposing statements, and the goal of hypothesis testing is to evaluate the evidence and decide whether to accept or reject the null hypothesis in favor of the alternative hypothesis. Here are some examples of null and alternative hypotheses:\n",
    "\n",
    "Example 1: Drug Efficacy\n",
    "\n",
    "Null Hypothesis (H0): The new drug has no effect on reducing blood pressure in patients (population mean change in blood pressure = 0).\n",
    "Alternative Hypothesis (Ha): The new drug reduces blood pressure in patients (population mean change in blood pressure < 0)."
   ]
  },
  {
   "cell_type": "markdown",
   "id": "f62c6c7c-4a69-4aaa-be38-7d4b648d706f",
   "metadata": {},
   "source": [
    "# Q7: Write down the steps involved in hypothesis testing."
   ]
  },
  {
   "cell_type": "markdown",
   "id": "7354367d-5071-4dbb-9043-04591e56a3f5",
   "metadata": {},
   "source": [
    "Ans=Hypothesis testing is a statistical method used to make inferences about a population based on a sample of data. The process typically involves the following steps:\n",
    "\n",
    "State the Hypotheses:\n",
    "\n",
    "Null Hypothesis (H0): This is the default or status quo hypothesis, typically stating that there is no effect, no difference, or no relationship in the population. It represents the statement to be tested.\n",
    "Alternative Hypothesis (H1 or Ha): This is the hypothesis that contradicts the null hypothesis and represents the effect, difference, or relationship you are trying to detect.\n",
    "Select a Significance Level (Alpha, α):\n",
    "\n",
    "The significance level (α) is the probability of making a Type I error (rejecting the null hypothesis when it is true). "
   ]
  },
  {
   "cell_type": "markdown",
   "id": "216b14ba-8777-438f-8f88-3e999e65c9c8",
   "metadata": {},
   "source": [
    "# Q8. Define p-value and explain its significance in hypothesis testing."
   ]
  },
  {
   "cell_type": "markdown",
   "id": "a21a886c-7a8f-4dfe-879b-9d7e4e84732d",
   "metadata": {},
   "source": [
    "Ans=Definition: The p-value is the probability of obtaining a test statistic as extreme as, or more extreme than, the one calculated from the sample data, assuming that the null hypothesis is true. In other words, it measures the likelihood of observing the sample results if the null hypothesis were correct.\n",
    "\n",
    "Significance in Hypothesis Testing:\n",
    "The p-value serves as a critical component of hypothesis testing, and its significance lies in the following aspects:\n",
    "\n",
    "Decision Making: The p-value helps researchers make informed decisions about whether to reject or fail to reject the null hypothesis. Specifically:\n",
    "\n",
    "If the p-value is less than or equal to the chosen significance level (α), typically 0.05 (5%), the results are considered statistically significant. In this case, you reject the null hypothesis.\n",
    "If the p-value is greater than α, you fail to reject the null hypothesis because there is not enough evidence to support the alternative hypothesis.\n",
    "Quantifying Evidence: The p-value provides a numerical measure of the strength of the evidence against the null hypothesis. A smaller p-value indicates stronger evidence against the null hypothesis, while a larger p-value suggests weaker evidence.\n",
    "\n",
    "Threshold for Decision: By selecting a significance level (α) before conducting the test, researchers set a predetermined threshold for the p-value. This allows for a controlled balance between Type I errors (false positives) and Type II errors (false negatives). For example, setting α at 0.05 means that you are willing to accept a 5% chance of making a Type I error.\n",
    "\n",
    "Interpretation: The p-value can be interpreted as follows:\n",
    "\n",
    "Small p-values (e.g., p < 0.05) suggest that the sample data is unlikely to have occurred by random chance alone, providing strong evidence against the null hypothesis.\n",
    "Large p-values (e.g., p > 0.05) suggest that the sample data is reasonably likely to have occurred by random chance, providing weak evidence against the null hypothesis.\n",
    "Continuous Evaluation: Researchers can use the p-value as a continuous scale for evaluating the strength of evidence, allowing for more nuanced interpretations."
   ]
  },
  {
   "cell_type": "markdown",
   "id": "a5212fd8-2d29-42ca-9cf9-e241fb48c304",
   "metadata": {},
   "source": [
    "# Q9. Generate a Student's t-distribution plot using Python's matplotlib library, with the degrees of freedom parameter set to 10."
   ]
  },
  {
   "cell_type": "code",
   "execution_count": 8,
   "id": "748c3552-1dc9-4505-a44f-7415bd55e24f",
   "metadata": {},
   "outputs": [],
   "source": [
    "import numpy as np\n",
    "import matplotlib.pyplot as plt\n",
    "from scipy.stats import t\n",
    "\n"
   ]
  },
  {
   "cell_type": "code",
   "execution_count": 10,
   "id": "f92f4094-7943-49e7-baff-08548ac7d8a8",
   "metadata": {},
   "outputs": [],
   "source": [
    "degrees_of_freedom = 10\n",
    "x = np.linspace(-5,5,500)\n",
    "pdf = t.pdf(x, df=degrees_of_freedom)"
   ]
  },
  {
   "cell_type": "code",
   "execution_count": 11,
   "id": "f6c21fcd-5c70-4f91-b1c6-34d2234fa354",
   "metadata": {},
   "outputs": [
    {
     "data": {
      "image/png": "[encoded data removed]",
      "text/plain": [
       "<Figure size 800x400 with 1 Axes>"
      ]
     },
     "metadata": {},
     "output_type": "display_data"
    }
   ],
   "source": [
    "plt.figure(figsize=(8,4))\n",
    "plt.plot(x,pdf, label=f't-distrbution (df={degrees_of_freedom})', color='b')\n",
    "plt.title(f'Student\\'s t-Distribution (df={degrees_of_freedom})')\n",
    "plt.xlabel('X')\n",
    "plt.ylabel('PDF')\n",
    "plt.legend()\n",
    "plt.grid(True)\n",
    "\n",
    "plt.show()"
   ]
  },
  {
   "cell_type": "markdown",
   "id": "f784ed2f-d853-4c5a-b73f-481ae31fe1a6",
   "metadata": {},
   "source": [
    "# Q10. Write a Python program to calculate the two-sample t-test for independent samples, given two\n",
    "# random samples of equal size and a null hypothesis that the population means are equal."
   ]
  },
  {
   "cell_type": "code",
   "execution_count": 12,
   "id": "7476df26-c70e-44a1-8a52-b2ebce498879",
   "metadata": {},
   "outputs": [],
   "source": [
    "import numpy as np\n",
    "from scipy import stats\n",
    "  "
   ]
  },
  {
   "cell_type": "code",
   "execution_count": 16,
   "id": "0af0922d-52dc-4eee-8398-650164e8a34f",
   "metadata": {},
   "outputs": [
    {
     "name": "stdout",
     "output_type": "stream",
     "text": [
      "Sample 1 Mean: 5.625084946432348\n",
      "Sample 2 Mean: 4.752745917023613\n",
      "t-statistic: \n",
      "P-value: 1.0\n"
     ]
    }
   ],
   "source": [
    "np.random.seed(0)\n",
    "sample_size = 40\n",
    "\n",
    "sample1 = np.random.normal(loc=5,scale=2,size=sample_size)\n",
    "sample2 = np.random.normal(loc=5.5,scale=2,size=sample_size)\n",
    "\n",
    "alpha= 0.05\n",
    "\n",
    "print(f\"Sample 1 Mean: {np.mean(sample1)}\")\n",
    "print(f\"Sample 2 Mean: {np.mean(sample2)}\")\n",
    "print(f\"t-statistic: \")\n",
    "print(f\"P-value: {p_value}\")"
   ]
  },
  {
   "cell_type": "code",
   "execution_count": 17,
   "id": "e75ddc04-a277-4936-b62f-081c2d0ece00",
   "metadata": {},
   "outputs": [
    {
     "name": "stdout",
     "output_type": "stream",
     "text": [
      "Fail to reject the null hypothesis: There is no significant difference in population means.\n"
     ]
    }
   ],
   "source": [
    "if p_value < alpha:\n",
    "    print(\"Reject the null hypothesis: The population means are not equal.\")\n",
    "else:\n",
    "    print(\"Fail to reject the null hypothesis: There is no significant difference in population means.\")"
   ]
  },
  {
   "cell_type": "markdown",
   "id": "52f51eaf-eba8-40c6-a8f9-18a992d91b8a",
   "metadata": {},
   "source": [
    "# Q11: What is Student’s t distribution? When to use the t-Distribution."
   ]
  },
  {
   "cell_type": "markdown",
   "id": "cf03a6ae-a0cb-430d-892b-92a98043d9be",
   "metadata": {},
   "source": [
    "Ans=Student's t-distribution, often simply referred to as the t-distribution, is a probability distribution that is used in statistics to make inferences about population parameters when the sample size is small and the population standard deviation is unknown.  The t-distribution is similar in shape to the normal (Gaussian) distribution but has heavier tails.\n",
    "\n",
    "Key characteristics of the t-distribution include:\n",
    "\n",
    "Shape: The t-distribution is symmetric and bell-shaped, similar to the normal distribution. However, the exact shape of the distribution depends on the degrees of freedom (df), which is a parameter that determines the shape of the distribution.\n",
    "\n",
    "Degrees of Freedom: The degrees of freedom (df) for a t-distribution is a positive whole number and is typically associated with the sample size in statistical analyses. The higher the degrees of freedom, the closer the t-distribution approximates the normal distribution. As df increases, the t-distribution becomes narrower and more closely resembles the standard normal distribution.\n",
    "\n",
    "When to use the t-distribution:\n",
    "\n",
    "Small Sample Sizes: The t-distribution is most appropriate when dealing with small sample sizes (typically less than 30) and when the population standard deviation is unknown. In contrast, when the sample size is large (usually greater than 30) and the standard deviation is known, the normal distribution can be used for statistical inference."
   ]
  },
  {
   "cell_type": "markdown",
   "id": "cb6fd46b-7ae4-48af-8657-6a85b02dd6cb",
   "metadata": {},
   "source": [
    "# Q12: What is t-statistic? State the formula for t-statistic."
   ]
  },
  {
   "cell_type": "markdown",
   "id": "35121bbf-5a7f-43f1-a19d-ec1fc4c43b9b",
   "metadata": {},
   "source": [
    "\n",
    "Ans= The calculate a t-value using a common t-test with the formula: t = (X‾ - μ0) / (s / √n), where X‾ is the sample mean, μ0 represents the population mean, s is the standard deviation of the sample and n stands for the size of the sample"
   ]
  },
  {
   "cell_type": "markdown",
   "id": "686b5cb9-0dbe-4864-959a-f599c3809e19",
   "metadata": {},
   "source": [
    "# Q13. A coffee shop owner wants to estimate the average daily revenue for their shop. They take a random\n",
    "# sample of 50 days and find the sample mean revenue to be $500 with a standard deviation of $50. Estimate the population mean revenue with a 95% confidence interval."
   ]
  },
  {
   "cell_type": "code",
   "execution_count": 1,
   "id": "e1652460-2aff-4616-b19b-171caa76ed05",
   "metadata": {},
   "outputs": [],
   "source": [
    "import scipy.stats as stats"
   ]
  },
  {
   "cell_type": "code",
   "execution_count": 4,
   "id": "f5e7de5a-4cfb-4d23-a740-d0121fa4d091",
   "metadata": {},
   "outputs": [
    {
     "name": "stdout",
     "output_type": "stream",
     "text": [
      "95% Confidence Interval: ($ 485.79, $ 514.21)\n"
     ]
    }
   ],
   "source": [
    "sample_mean = 500\n",
    "sample_stddev = 50\n",
    "sample_size = 50\n",
    "\n",
    "confidence_level = 0.95\n",
    "standard_error = sample_stddev / (sample_size ** 0.5)\n",
    "\n",
    "df = sample_size -1\n",
    "t_critical = stats.t.ppf((1 + confidence_level) / 2, df)\n",
    "margin_of_error = t_critical * standard_error\n",
    "\n",
    "lower_bound = sample_mean - margin_of_error\n",
    "upper_bound = sample_mean + margin_of_error\n",
    "\n",
    "print(f\"95% Confidence Interval: (${lower_bound: .2f}, ${upper_bound: .2f})\")"
   ]
  },
  {
   "cell_type": "markdown",
   "id": "01569bfe-5699-47b5-81ef-8f5d86ed80b7",
   "metadata": {},
   "source": [
    "This code will calculate the 95% confidence interval for the population mean revenue based on the provided sample statistics. "
   ]
  },
  {
   "cell_type": "markdown",
   "id": "79534825-ac13-433e-acba-ba13df961e63",
   "metadata": {},
   "source": [
    "# Q14. A researcher hypothesizes that a new drug will decrease blood pressure by 10 mmHg. They conduct a\n",
    "# clinical trial with 100 patients and find that the sample mean decrease in blood pressure is 8 mmHg with a\n",
    "# standard deviation of 3 mmHg. Test the hypothesis with a significance level of 0.05."
   ]
  },
  {
   "cell_type": "code",
   "execution_count": 5,
   "id": "2913b8f4-d38c-4d4e-8d51-a5ed2942fb5f",
   "metadata": {},
   "outputs": [],
   "source": [
    "import scipy.stats as stats"
   ]
  },
  {
   "cell_type": "code",
   "execution_count": 7,
   "id": "4f23b670-99f5-4d09-8227-4334de3f6a6f",
   "metadata": {},
   "outputs": [
    {
     "name": "stdout",
     "output_type": "stream",
     "text": [
      "Reject the null hypothesis\n",
      "Test Statistic: -6.67\n",
      "Critical t-Value:  1.98\n"
     ]
    }
   ],
   "source": [
    "sample_mean = 8 \n",
    "population_mean_hO = 10\n",
    "sample_stddev = 3\n",
    "sample_size = 100\n",
    "significance_level = 0.05\n",
    "\n",
    "standard_error = sample_stddev / (sample_size ** 0.5)\n",
    "t = (sample_mean - population_mean_hO) / standard_error\n",
    "\n",
    "df = sample_size - 1\n",
    "\n",
    "alpha = significance_level / 2\n",
    "critical_t = stats.t.ppf(1 - alpha, df)\n",
    "\n",
    "if abs(t) > critical_t:\n",
    "    print(\"Reject the null hypothesis\")\n",
    "else:\n",
    "    print(\"Fail to reject the null hypothesis\")\n",
    "    \n",
    "    \n",
    "# print the test statistic and critical t-value\n",
    "print(f\"Test Statistic: {t:.2f}\")\n",
    "print(f\"Critical t-Value: {critical_t: .2f}\")"
   ]
  },
  {
   "cell_type": "markdown",
   "id": "0bd39581-55d1-4c10-bc1d-81928c09faa2",
   "metadata": {},
   "source": [
    "# Q15. An electronics company produces a certain type of product with a mean weight of 5 pounds and a standard deviation of 0.5 pounds. A random sample of 25 products is taken, and the sample mean weight\n",
    "# is found to be 4.8 pounds. Test the hypothesis that the true mean weight of the products is less than 5 pounds with a significance level of 0.01."
   ]
  },
  {
   "cell_type": "code",
   "execution_count": 9,
   "id": "2e308ae0-ba4c-493b-9c77-dbcb200bcc60",
   "metadata": {},
   "outputs": [
    {
     "name": "stdout",
     "output_type": "stream",
     "text": [
      "Fail to reject the null hypothesis\n",
      "Test Statistic: -2.00\n",
      "Critical t-Value: -2.49\n"
     ]
    }
   ],
   "source": [
    "import scipy.stats as stats\n",
    "\n",
    "sample_mean = 4.8\n",
    "population_mean_h0 = 5\n",
    "sample_stddev = 0.5\n",
    "sample_size = 25\n",
    "significance_level = 0.01\n",
    "\n",
    "\n",
    "standard_error = sample_stddev / (sample_size ** 0.5)\n",
    "t = (sample_mean - population_mean_h0) / standard_error\n",
    "\n",
    "\n",
    "df = sample_size - 1\n",
    "critical_t = stats.t.ppf(significance_level, df)\n",
    "\n",
    "# Make a decision\n",
    "if t < critical_t:\n",
    "    print(\"Reject the null hypothesis\")\n",
    "else:\n",
    "    print(\"Fail to reject the null hypothesis\")\n",
    "\n",
    "# Print the test statistic and critical t-value\n",
    "print(f\"Test Statistic: {t:.2f}\")\n",
    "print(f\"Critical t-Value: {critical_t:.2f}\")"
   ]
  },
  {
   "cell_type": "markdown",
   "id": "30fdc388-852c-4248-a419-83e809215c01",
   "metadata": {},
   "source": [
    "# Q16. Two groups of students are given different study materials to prepare for a test. The first group (n1 =30) has a mean score of 80 with a standard deviation of 10, and the second group (n2 = 40) has a mean\n",
    "# score of 75 with a standard deviation of 8. Test the hypothesis that the population means for the two groups are equal with a significance level of 0.01."
   ]
  },
  {
   "cell_type": "code",
   "execution_count": 10,
   "id": "b68ad831-cb60-476c-84b4-66df84d2fa7c",
   "metadata": {},
   "outputs": [
    {
     "name": "stdout",
     "output_type": "stream",
     "text": [
      "Fail to reject the null hypothesis\n",
      "Test Statistic: 2.32\n",
      "Critical t-Value: 2.65\n"
     ]
    }
   ],
   "source": [
    "import scipy.stats as stats\n",
    "\n",
    "sample_mean_1 = 80\n",
    "sample_stddev_1 = 10\n",
    "sample_size_1 = 30\n",
    "\n",
    "\n",
    "sample_mean_2 = 75\n",
    "sample_stddev_2 = 8\n",
    "sample_size_2 = 40\n",
    "\n",
    "significance_level = 0.01\n",
    "pooled_variance = (((sample_size_1 - 1) * sample_stddev_1**2 + (sample_size_2 - 1) * sample_stddev_2**2) / (sample_size_1 + sample_size_2 - 2))\n",
    "t = (sample_mean_1 - sample_mean_2) / ((pooled_variance * ((1 / sample_size_1) + (1 / sample_size_2)))**0.5)\n",
    "\n",
    "\n",
    "df = sample_size_1 + sample_size_2 - 2\n",
    "alpha = significance_level / 2  \n",
    "critical_t = stats.t.ppf(1 - alpha, df)\n",
    "\n",
    "\n",
    "if abs(t) > critical_t:\n",
    "    print(\"Reject the null hypothesis\")\n",
    "else:\n",
    "    print(\"Fail to reject the null hypothesis\")\n",
    "\n",
    "# Print the test statistic and critical t-value\n",
    "print(f\"Test Statistic: {t:.2f}\")\n",
    "print(f\"Critical t-Value: {critical_t:.2f}\")"
   ]
  },
  {
   "cell_type": "markdown",
   "id": "aec90b62-ddb7-4cd3-a211-d571ff92a7dc",
   "metadata": {},
   "source": [
    "# Q17. A marketing company wants to estimate the average number of ads watched by viewers during a TV program. They take a random sample of 50 viewers and find that the sample mean is 4 with a standard\n",
    "# deviation of 1.5. Estimate the population mean with a 99% confidence interval."
   ]
  },
  {
   "cell_type": "code",
   "execution_count": 11,
   "id": "2b2e96d3-34b0-43e5-9777-477eedc04028",
   "metadata": {},
   "outputs": [
    {
     "name": "stdout",
     "output_type": "stream",
     "text": [
      "99% Confidence Interval: (3.65, 4.35)\n"
     ]
    }
   ],
   "source": [
    "import scipy.stats as stats\n",
    "\n",
    "sample_mean = 4\n",
    "sample_stddev = 1.5\n",
    "sample_size = 50\n",
    "confidence_level = 0.9\n",
    "\n",
    "\n",
    "standard_error = sample_stddev / (sample_size ** 0.5)\n",
    "\n",
    "\n",
    "Z = stats.norm.ppf((1 + confidence_level) / 2)\n",
    "margin_of_error = Z * standard_error\n",
    "\n",
    "\n",
    "lower_bound = sample_mean - margin_of_error\n",
    "upper_bound = sample_mean + margin_of_error\n",
    "\n",
    "# Print the confidence interval\n",
    "print(f\"99% Confidence Interval: ({lower_bound:.2f}, {upper_bound:.2f})\")"
   ]
  },
  {
   "cell_type": "code",
   "execution_count": null,
   "id": "4893bd7b-8eaa-4125-b569-235ea764f0d1",
   "metadata": {},
   "outputs": [],
   "source": []
  },
  {
   "cell_type": "code",
   "execution_count": null,
   "id": "ee212bba-a9dd-4081-b311-699a650253b6",
   "metadata": {},
   "outputs": [],
   "source": []
  }
 ],
 "metadata": {
  "kernelspec": {
   "display_name": "Python 3 (ipykernel)",
   "language": "python",
   "name": "python3"
  },
  "language_info": {
   "codemirror_mode": {
    "name": "ipython",
    "version": 3
   },
   "file_extension": ".py",
   "mimetype": "text/x-python",
   "name": "python",
   "nbconvert_exporter": "python",
   "pygments_lexer": "ipython3",
   "version": "3.10.8"
  }
 },
 "nbformat": 4,
 "nbformat_minor": 5
}
