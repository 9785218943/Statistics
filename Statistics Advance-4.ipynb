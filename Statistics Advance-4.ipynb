{
 "cells": [
  {
   "cell_type": "markdown",
   "id": "e777d205-939c-4df3-890c-53e57030d757",
   "metadata": {},
   "source": [
    "#  Q1: What is the difference between a t-test and a z-test? Provide an example scenario where you would use each type of test."
   ]
  },
  {
   "cell_type": "markdown",
   "id": "2873dff5-329a-4e73-9719-4548f88acfe8",
   "metadata": {},
   "source": [
    "Ans=A t-test and a z-test are both statistical hypothesis tests used to determine whether there is a significant difference between the means of two groups or to assess a sample mean in relation to a population mean. The main difference between them lies in the circumstances under which they are appropriate.\n",
    "\n",
    "T-Test:\n",
    "\n",
    "Use Case: T-tests are primarily used when you have a small sample size (typically less than 30) and when you do not know the population standard deviation. They are appropriate for testing hypotheses about the means of samples from populations with unknown or different variances.\n",
    "Example Scenario: Suppose you want to test whether there is a significant difference in the average test scores of two different groups of students, Group A and Group B, where the sample size for each group is less than 30. In this case, you would use a t-test to compare the means of the two groups.\n",
    "Z-Test:\n",
    "\n",
    "Use Case: Z-tests are used when you have a larger sample size (typically greater than 30) and when you know the population standard deviation. They are appropriate for situations where you are comparing a sample mean to a known population mean.\n",
    "Example Scenario: Let's say you work for a cereal company, and you want to test whether a new production process has led to a significant change in the weight of cereal boxes. You have a large sample of cereal boxes (more than 30) and you have historical data for the population standard deviation of box weights. In this case, you would use a z-test to compare the sample mean to the known population mean."
   ]
  },
  {
   "cell_type": "markdown",
   "id": "333b62f1-b2db-467f-8369-2560dcdcc619",
   "metadata": {},
   "source": [
    "# Q2: Differentiate between one-tailed and two-tailed tests."
   ]
  },
  {
   "cell_type": "markdown",
   "id": "f4b3fd40-ae29-4e5c-a384-82a0c9c645b8",
   "metadata": {},
   "source": [
    "Ans=One-Tailed Test vs. Two-Tailed Test:\n",
    "\n",
    "Hypothesis testing in statistics involves comparing a sample or data to a null hypothesis to determine whether there is enough evidence to reject the null hypothesis in favor of an alternative hypothesis. The choice between a one-tailed and a two-tailed test depends on the specific research question and the direction of the expected effect. Here's how they differ:\n",
    "\n",
    "One-Tailed Test (Directional Test):\n",
    "\n",
    "Purpose: A one-tailed test is used when you have a specific directional hypothesis. In other words, you are interested in testing whether a parameter is greater than or less than a certain value, but not both.\n"
   ]
  },
  {
   "cell_type": "markdown",
   "id": "284be0dc-c245-44cb-b8d3-53f04d91f8e9",
   "metadata": {},
   "source": [
    "Two-Tailed Test (Non-Directional Test):\n",
    "\n",
    "Purpose: A two-tailed test is used when you have a non-directional hypothesis or when you want to test whether a parameter is different from a specific value without specifying the direction."
   ]
  },
  {
   "cell_type": "markdown",
   "id": "b5bf718e-1d3c-4cc4-aec4-a317554fd3fa",
   "metadata": {},
   "source": [
    "# Q3: Explain the concept of Type 1 and Type 2 errors in hypothesis testing. Provide an example scenario for each type of error."
   ]
  },
  {
   "cell_type": "markdown",
   "id": "b234c582-6fe0-46cd-b474-81b61b403191",
   "metadata": {},
   "source": [
    "Ans=In hypothesis testing, there are two types of errors that can occur when making a decision about a null hypothesis. These errors are known as Type I and Type II errors:\n",
    "\n",
    "Type I Error (False Positive):\n",
    "\n",
    "Definition: A Type I error occurs when you incorrectly reject a true null hypothesis. In other words, you conclude that there is a significant effect or difference when there is none in reality. It represents a false positive result.\n",
    "\n",
    "Example Scenario:\n",
    "Suppose a medical test is designed to detect a specific disease. The null hypothesis (H0) is that a person does not have the disease. A Type I error in this case would occur if the test falsely indicates that a healthy person has the disease, leading to unnecessary stress, treatment, or costs.\n",
    "\n",
    "Type II Error (False Negative):\n",
    "\n",
    "Definition: A Type II error occurs when you fail to reject a false null hypothesis. In this case, you mistakenly conclude that there is no significant effect or difference when there actually is one. It represents a false negative result.\n",
    "\n",
    "Example Scenario:\n",
    "Let's say a pharmaceutical company is testing a new drug, and the null hypothesis (H0) is that the drug has no effect on a specific medical condition. A Type II error in this case would occur if the study fails to detect the drug's effectiveness when, in fact, the drug could be beneficial to patients, resulting in missed opportunities for treatment and improved health."
   ]
  },
  {
   "cell_type": "markdown",
   "id": "07371481-ab07-40c7-b853-0cd0139b8a1e",
   "metadata": {},
   "source": [
    "# Q4: Explain Bayes's theorem with an example."
   ]
  },
  {
   "cell_type": "markdown",
   "id": "ad24265d-5d40-433e-aea0-e33b654e93eb",
   "metadata": {},
   "source": [
    "Ans=The formula for the Bayes theorem can be written in a variety of ways. The following is the most common version:\n",
    "\n",
    "P(A ∣ B) = P(B ∣ A)P(A) / P(B)\n",
    "\n",
    "P(A ∣ B) is the conditional probability of event A occurring, given that B is true.\n",
    "\n",
    "P(B ∣ A) is the conditional probability of event B occurring, given that A is true.\n",
    "\n",
    "P(A) and P(B) are the probabilities of A and B occurring independently of one another."
   ]
  },
  {
   "cell_type": "markdown",
   "id": "183ff26c-f8ba-4d6a-931f-7389b72c7a05",
   "metadata": {},
   "source": [
    "Bayes theorem is also known as the formula for the probability of “causes”. For example: if we have to calculate the probability of taking a blue ball from the second bag out of three different bags of balls, where each bag contains three different colour balls viz. red, blue, black."
   ]
  },
  {
   "cell_type": "markdown",
   "id": "2001db9e-86a0-4b63-83ef-23a5e2547343",
   "metadata": {},
   "source": [
    "# Q5: What is a confidence interval? How to calculate the confidence interval, explain with an example."
   ]
  },
  {
   "cell_type": "markdown",
   "id": "d93e53d0-76f0-4ee3-9b88-00ba22f4938c",
   "metadata": {},
   "source": [
    "Ans=A confidence interval is a range of values that is constructed around a sample statistic, such as a mean or proportion, to provide a range of plausible values for the population parameter with a certain level of confidence. It is a common tool in statistics to quantify the uncertainty or variability associated with estimating a population parameter based on a sample of data. The confidence interval gives you a sense of how certain you can be that the true population parameter falls within a specific range.\n",
    "\n",
    "A typical confidence interval is expressed as:\n",
    "\n",
    "Point Estimate\n",
    "±\n",
    "Margin of Error\n",
    "Point Estimate±Margin of Error\n",
    "\n",
    "Where:\n",
    "\n",
    "Point Estimate: This is the sample statistic (e.g., sample mean or sample proportion) that you use to estimate the population parameter.\n",
    "\n",
    "Margin of Error: This is a range that is added and subtracted from the point estimate to create the interval. It is calculated based on the level of confidence and the variability of the data.\n",
    "\n",
    "Here's how to calculate a confidence interval with an example:\n",
    "\n",
    "Suppose you want to estimate the average height of a certain population of adults. You take a random sample of 100 individuals from this population and measure their heights. The sample mean height is 170 cm, and the sample standard deviation is 5 cm."
   ]
  },
  {
   "cell_type": "markdown",
   "id": "cb6f57d2-5323-442a-9103-be221619d020",
   "metadata": {},
   "source": [
    "# Q6. Use Bayes' Theorem to calculate the probability of an event occurring given prior knowledge of the event's probability and new evidence. Provide a sample problem and solution."
   ]
  },
  {
   "cell_type": "code",
   "execution_count": 2,
   "id": "eddb5651-21b3-4a84-a6c3-0cb30019b641",
   "metadata": {},
   "outputs": [
    {
     "name": "stdout",
     "output_type": "stream",
     "text": [
      "The probability of a defect given the alert is approximately: 0.68\n"
     ]
    }
   ],
   "source": [
    " #Define the prior probabilities and conditional probabilities\n",
    "prior_probability_defect = 0.10  # P(D) - Prior probability of a defect occurring\n",
    "probability_true_positive = 0.95  # P(A|D) - Probability of a true positive alert\n",
    "probability_false_positive = 0.05  # P(A|¬D) - Probability of a false positive alert\n",
    "\n",
    "# Calculate the probability of no defect occurring\n",
    "prior_probability_no_defect = 1 - prior_probability_defect  # P(¬D)\n",
    "\n",
    "# Calculate the probability of an alert (P(A)) using the law of total probability\n",
    "probability_alert = (probability_true_positive * prior_probability_defect) + (probability_false_positive * prior_probability_no_defect)\n",
    "\n",
    "# Calculate the probability of a defect given the alert (P(D|A)) using Bayes' Theorem\n",
    "probability_defect_given_alert = (probability_true_positive * prior_probability_defect) / probability_alert\n",
    "\n",
    "# Print the result\n",
    "print(f\"The probability of a defect given the alert is approximately: {probability_defect_given_alert:.2f}\")"
   ]
  },
  {
   "cell_type": "markdown",
   "id": "4a89973d-c1b3-4905-9d9b-c63008abe75a",
   "metadata": {},
   "source": [
    "# Q7. Calculate the 95% confidence interval for a sample of data with a mean of 50 and a standard deviation of 5. Interpret the results."
   ]
  },
  {
   "cell_type": "code",
   "execution_count": 3,
   "id": "34064fc1-6888-4154-bbb0-6da97539d88e",
   "metadata": {},
   "outputs": [
    {
     "name": "stdout",
     "output_type": "stream",
     "text": [
      "Sample Mean: 50\n",
      "Standard Deviation: 5\n",
      "Sample Size: 100\n",
      "Confidence Level: 95.0%\n",
      "Margin of Error: 0.979981992270027\n",
      "95% Confidence Interval: (49.02001800772997, 50.97998199227003)\n"
     ]
    }
   ],
   "source": [
    "import scipy.stats as stats\n",
    "\n",
    "# Sample statistics\n",
    "sample_mean = 50\n",
    "sample_std_dev = 5\n",
    "confidence_level = 0.95  # 95% confidence level\n",
    "sample_size = 100  # Assuming a sample size of 100\n",
    "\n",
    "# Calculate the margin of error using the standard error formula\n",
    "standard_error = sample_std_dev / (sample_size**0.5)\n",
    "\n",
    "# Calculate the critical value (z-score) for the given confidence level\n",
    "z_score = stats.norm.ppf(1 - (1 - confidence_level) / 2)\n",
    "\n",
    "# Calculate the confidence interval\n",
    "margin_of_error = z_score * standard_error\n",
    "lower_limit = sample_mean - margin_of_error\n",
    "upper_limit = sample_mean + margin_of_error\n",
    "\n",
    "# Print the results\n",
    "print(f\"Sample Mean: {sample_mean}\")\n",
    "print(f\"Standard Deviation: {sample_std_dev}\")\n",
    "print(f\"Sample Size: {sample_size}\")\n",
    "print(f\"Confidence Level: {confidence_level * 100}%\")\n",
    "print(f\"Margin of Error: {margin_of_error}\")\n",
    "print(f\"95% Confidence Interval: ({lower_limit}, {upper_limit})\")"
   ]
  },
  {
   "cell_type": "markdown",
   "id": "f3d632fc-b827-4177-afc7-1ab288a11d84",
   "metadata": {},
   "source": [
    "# Q8. What is the margin of error in a confidence interval? How does sample size affect the margin of error?\n",
    "# Provide an example of a scenario where a larger sample size would result in a smaller margin of error."
   ]
  },
  {
   "cell_type": "code",
   "execution_count": 5,
   "id": "b321376f-a5bd-4150-a415-c6f3ed8033c9",
   "metadata": {},
   "outputs": [
    {
     "name": "stdout",
     "output_type": "stream",
     "text": [
      "Sample Size: 50\n",
      "Margin of Error: 1.3859038243496777\n",
      "\n",
      "Sample Size: 100\n",
      "Margin of Error: 0.979981992270027\n",
      "\n",
      "Sample Size: 200\n",
      "Margin of Error: 0.6929519121748389\n",
      "\n"
     ]
    }
   ],
   "source": [
    "import scipy.stats as stats\n",
    "\n",
    "# Sample statistics\n",
    "sample_mean = 50\n",
    "sample_std_dev = 5\n",
    "confidence_level = 0.95 \n",
    "# Sample sizes to compare\n",
    "sample_sizes = [50, 100, 200]\n",
    "\n",
    "for sample_size in sample_sizes:\n",
    "    # Calculate the margin of error using the standard error formula\n",
    "    standard_error = sample_std_dev / (sample_size**0.5)\n",
    "\n",
    "    # Calculate the critical value (z-score) for the given confidence level\n",
    "    z_score = stats.norm.ppf(1 - (1 - confidence_level) / 2)\n",
    "\n",
    "    # Calculate the margin of error\n",
    "    margin_of_error = z_score * standard_error\n",
    "\n",
    "\n",
    "    print(f\"Sample Size: {sample_size}\")\n",
    "    print(f\"Margin of Error: {margin_of_error}\\n\")"
   ]
  },
  {
   "cell_type": "markdown",
   "id": "95f4124b-2a44-4e38-898d-32be2b579220",
   "metadata": {},
   "source": [
    "# Q9. Calculate the z-score for a data point with a value of 75, a population mean of 70, and a population standard deviation of 5. Interpret the results."
   ]
  },
  {
   "cell_type": "markdown",
   "id": "4bbe07f1-e80d-4da3-bd5e-9ee585a85ea2",
   "metadata": {},
   "source": [
    "Ans=Z-Score= \n",
    "              \n",
    "X−Mean/standard deviation\n",
    "​\n",
    " \n",
    "\n",
    "Where:\n",
    "\n",
    "\n",
    "X is the value of the data point.\n",
    "Mean\n",
    "Mean is the population mean.\n",
    "Standard Deviation\n",
    "Standard Deviation is the population standard deviation.\n",
    "In this case, you want to calculate the z-score for a data point with a value of 75, a population mean of 70, and a population standard deviation of 5. Let's calculate the z-score and interpret the results using a Python program:"
   ]
  },
  {
   "cell_type": "code",
   "execution_count": 6,
   "id": "f39c5644-8f21-4ee6-9b8a-fc2652a9811b",
   "metadata": {},
   "outputs": [
    {
     "name": "stdout",
     "output_type": "stream",
     "text": [
      "Z-Score: 1.00\n"
     ]
    }
   ],
   "source": [
    "data_point = 75\n",
    "population_mean = 70\n",
    "population_std_dev = 5\n",
    "\n",
    "# Calculate the z-score\n",
    "z_score = (data_point - population_mean) / population_std_dev\n",
    "\n",
    "\n",
    "print(f\"Z-Score: {z_score:.2f}\")"
   ]
  },
  {
   "cell_type": "markdown",
   "id": "1101510f-5264-4b33-aab6-1104ea37f59d",
   "metadata": {},
   "source": [
    "# Q10. In a study of the effectiveness of a new weight loss drug, a sample of 50 participants lost an average of 6 pounds with a standard deviation of 2.5 pounds. Conduct a hypothesis test to determine if the drug is\n",
    "# significantly effective at a 95% confidence level using a t-test."
   ]
  },
  {
   "cell_type": "code",
   "execution_count": 7,
   "id": "aca06b36-122e-4d51-9d53-169314818ca7",
   "metadata": {},
   "outputs": [
    {
     "name": "stdout",
     "output_type": "stream",
     "text": [
      "Sample Size: 50\n",
      "Sample Mean: 6\n",
      "Sample Standard Deviation: 2.5\n",
      "Null Hypothesis Mean: 0\n",
      "Confidence Level: 95.0%\n",
      "Calculated t-statistic: 16.97\n",
      "Degrees of Freedom: 49\n",
      "Critical t-value: 2.01\n",
      "P-Value: 0.0000\n",
      "Reject the null hypothesis: The drug is significantly effective.\n"
     ]
    }
   ],
   "source": [
    "import scipy.stats as stats\n",
    "\n",
    "\n",
    "sample_size = 50\n",
    "sample_mean = 6  # Average weight loss\n",
    "sample_std_dev = 2.5  # Standard deviation of weight loss\n",
    "\n",
    "\n",
    "null_hypothesis_mean = 0  \n",
    "\n",
    "\n",
    "confidence_level = 0.95  \n",
    "\n",
    "# Calculate the t-statistic\n",
    "t_statistic = (sample_mean - null_hypothesis_mean) / (sample_std_dev / (sample_size**0.5))\n",
    "\n",
    "# Calculate the degrees of freedom\n",
    "degrees_of_freedom = sample_size - 1\n",
    "\n",
    "# Calculate the critical t-value for a two-tailed test\n",
    "alpha = 1 - confidence_level\n",
    "t_critical = stats.t.ppf(1 - alpha / 2, degrees_of_freedom)\n",
    "\n",
    "# Perform the hypothesis test\n",
    "p_value = 2 * (1 - stats.t.cdf(abs(t_statistic), degrees_of_freedom))\n",
    "\n",
    "\n",
    "print(f\"Sample Size: {sample_size}\")\n",
    "print(f\"Sample Mean: {sample_mean}\")\n",
    "print(f\"Sample Standard Deviation: {sample_std_dev}\")\n",
    "print(f\"Null Hypothesis Mean: {null_hypothesis_mean}\")\n",
    "print(f\"Confidence Level: {confidence_level * 100}%\")\n",
    "print(f\"Calculated t-statistic: {t_statistic:.2f}\")\n",
    "print(f\"Degrees of Freedom: {degrees_of_freedom}\")\n",
    "print(f\"Critical t-value: {t_critical:.2f}\")\n",
    "print(f\"P-Value: {p_value:.4f}\")\n",
    "\n",
    "# Compare the p-value to the significance level (alpha) to make a decision\n",
    "alpha = 1 - confidence_level\n",
    "if p_value < alpha:\n",
    "    print(\"Reject the null hypothesis: The drug is significantly effective.\")\n",
    "else:\n",
    "    print(\"Fail to reject the null hypothesis: The drug is not significantly effective.\")"
   ]
  },
  {
   "cell_type": "markdown",
   "id": "978335df-1220-4ab3-923a-4201375aa30b",
   "metadata": {},
   "source": [
    "# Q11. In a survey of 500 people, 65% reported being satisfied with their current job. Calculate the 95% confidence interval for the true proportion of people who are satisfied with their job."
   ]
  },
  {
   "cell_type": "code",
   "execution_count": 9,
   "id": "dc2002d6-95c7-4e8d-bf20-1f8a9cef4573",
   "metadata": {},
   "outputs": [
    {
     "name": "stdout",
     "output_type": "stream",
     "text": [
      "Sample Proportion: 0.65\n",
      "Confidence Level: 95.0%\n",
      "Sample Size: 500\n",
      "Margin of Error: 0.0418\n",
      "95% Confidence Interval: (0.6082, 0.6918)\n"
     ]
    }
   ],
   "source": [
    "import math\n",
    "\n",
    "\n",
    "sample_proportion = 0.65  # 65% satisfaction rate\n",
    "confidence_level = 0.95  # 95% confidence level\n",
    "sample_size = 500\n",
    "\n",
    "# Calculate the critical value (z-score)\n",
    "z = 1.96  # Approximate value for a 95% confidence interval\n",
    "\n",
    "# Calculate the margin of error\n",
    "margin_of_error = z * math.sqrt((sample_proportion * (1 - sample_proportion)) / sample_size)\n",
    "\n",
    "# Calculate the lower and upper limits of the confidence interval\n",
    "lower_limit = sample_proportion - margin_of_error\n",
    "upper_limit = sample_proportion + margin_of_error\n",
    "\n",
    "\n",
    "print(f\"Sample Proportion: {sample_proportion}\")\n",
    "print(f\"Confidence Level: {confidence_level * 100}%\")\n",
    "print(f\"Sample Size: {sample_size}\")\n",
    "print(f\"Margin of Error: {margin_of_error:.4f}\")\n",
    "print(f\"95% Confidence Interval: ({lower_limit:.4f}, {upper_limit:.4f})\")"
   ]
  },
  {
   "cell_type": "markdown",
   "id": "02ac7675-0bd6-4401-8ec4-ce201a7c1720",
   "metadata": {},
   "source": [
    "# Q12. A researcher is testing the effectiveness of two different teaching methods on student performance. Sample A has a mean score of 85 with a standard deviation of 6, while sample B has a mean score of 82\n",
    "# with a standard deviation of 5. Conduct a hypothesis test to determine if the two teaching methods have a significant difference in student performance using a t-test with a significance level of 0.01."
   ]
  },
  {
   "cell_type": "code",
   "execution_count": 10,
   "id": "8ce4441d-8efb-40b1-8908-61c22f862912",
   "metadata": {},
   "outputs": [
    {
     "name": "stdout",
     "output_type": "stream",
     "text": [
      "Sample A Mean: 85\n",
      "Sample A Standard Deviation: 6\n",
      "Sample A Size: 30\n",
      "Sample B Mean: 82\n",
      "Sample B Standard Deviation: 5\n",
      "Sample B Size: 30\n",
      "Significance Level (alpha): 0.01\n",
      "T-Statistic: 2.1039\n",
      "P-Value: 0.0397\n",
      "Fail to reject the null hypothesis: There is no significant difference in student performance between the two teaching methods.\n"
     ]
    }
   ],
   "source": [
    "import scipy.stats as stats\n",
    "\n",
    "\n",
    "mean_A = 85\n",
    "std_dev_A = 6\n",
    "sample_size_A = 30  # Number of students in sample A\n",
    "\n",
    "# Sample statistics for method B\n",
    "mean_B = 82\n",
    "std_dev_B = 5\n",
    "sample_size_B = 30  # Number of students in sample B\n",
    "\n",
    "# Set the significance level (alpha)\n",
    "alpha = 0.01\n",
    "\n",
    "# Calculate the t-statistic\n",
    "t_statistic, p_value = stats.ttest_ind_from_stats(mean_A, std_dev_A, sample_size_A, mean_B, std_dev_B, sample_size_B)\n",
    "\n",
    "\n",
    "print(f\"Sample A Mean: {mean_A}\")\n",
    "print(f\"Sample A Standard Deviation: {std_dev_A}\")\n",
    "print(f\"Sample A Size: {sample_size_A}\")\n",
    "print(f\"Sample B Mean: {mean_B}\")\n",
    "print(f\"Sample B Standard Deviation: {std_dev_B}\")\n",
    "print(f\"Sample B Size: {sample_size_B}\")\n",
    "print(f\"Significance Level (alpha): {alpha}\")\n",
    "print(f\"T-Statistic: {t_statistic:.4f}\")\n",
    "print(f\"P-Value: {p_value:.4f}\")\n",
    "\n",
    "\n",
    "if p_value < alpha:\n",
    "    print(\"Reject the null hypothesis: There is a significant difference in student performance between the two teaching methods.\")\n",
    "else:\n",
    "    print(\"Fail to reject the null hypothesis: There is no significant difference in student performance between the two teaching methods.\")"
   ]
  },
  {
   "cell_type": "markdown",
   "id": "53ea69f6-8a94-468d-9919-2eff074fc5a9",
   "metadata": {},
   "source": [
    "# Q13. A population has a mean of 60 and a standard deviation of 8. A sample of 50 observations has a mean of 65. Calculate the 90% confidence interval for the true population mean."
   ]
  },
  {
   "cell_type": "code",
   "execution_count": 11,
   "id": "effd4de7-b123-4208-9975-3bd4cd4785bc",
   "metadata": {},
   "outputs": [
    {
     "name": "stdout",
     "output_type": "stream",
     "text": [
      "Sample Mean: 65\n",
      "Population Mean: 60\n",
      "Population Standard Deviation: 8\n",
      "Sample Size: 50\n",
      "Critical Value (z): 1.645\n",
      "Margin of Error: 1.8611\n",
      "90% Confidence Interval: (63.1389, 66.8611)\n"
     ]
    }
   ],
   "source": [
    "import math\n",
    "\n",
    "sample_mean = 65\n",
    "population_mean = 60\n",
    "population_std_dev = 8\n",
    "sample_size = 50\n",
    "\n",
    "# Calculate the critical value (z-score) for a 90% confidence interval\n",
    "z = 1.645  # Approximate value for a 90% confidence interval\n",
    "\n",
    "# Calculate the margin of error\n",
    "margin_of_error = z * (population_std_dev / math.sqrt(sample_size))\n",
    "\n",
    "# Calculate the lower and upper limits of the confidence interval\n",
    "lower_limit = sample_mean - margin_of_error\n",
    "upper_limit = sample_mean + margin_of_error\n",
    "\n",
    "print(f\"Sample Mean: {sample_mean}\")\n",
    "print(f\"Population Mean: {population_mean}\")\n",
    "print(f\"Population Standard Deviation: {population_std_dev}\")\n",
    "print(f\"Sample Size: {sample_size}\")\n",
    "print(f\"Critical Value (z): {z}\")\n",
    "print(f\"Margin of Error: {margin_of_error:.4f}\")\n",
    "print(f\"90% Confidence Interval: ({lower_limit:.4f}, {upper_limit:.4f})\")"
   ]
  },
  {
   "cell_type": "markdown",
   "id": "b3473ce8-6575-4b98-b7d5-b360acb0c503",
   "metadata": {},
   "source": [
    "# Q14. In a study of the effects of caffeine on reaction time, a sample of 30 participants had an average reaction time of 0.25 seconds with a standard deviation of 0.05 seconds. Conduct a hypothesis test to\n",
    "# determine if the caffeine has a significant effect on reaction time at a 90% confidence level using a t-test."
   ]
  },
  {
   "cell_type": "code",
   "execution_count": 12,
   "id": "5a233bb6-8fa8-4e01-be68-d4a52f3686b1",
   "metadata": {},
   "outputs": [
    {
     "name": "stdout",
     "output_type": "stream",
     "text": [
      "Sample Mean: 0.25\n",
      "Sample Standard Deviation: 0.05\n",
      "Sample Size: 30\n",
      "Null Hypothesis Mean: 0.24\n",
      "Confidence Level: 90.0%\n",
      "T-Statistic: nan\n",
      "P-Value: nan\n",
      "Fail to reject the null hypothesis: Caffeine has no significant effect on reaction time.\n"
     ]
    },
    {
     "name": "stderr",
     "output_type": "stream",
     "text": [
      "/tmp/ipykernel_91/1225063089.py:15: RuntimeWarning: Precision loss occurred in moment calculation due to catastrophic cancellation. This occurs when the data are nearly identical. Results may be unreliable.\n",
      "  t_statistic, p_value = stats.ttest_1samp([sample_mean], null_hypothesis_mean)\n",
      "/opt/conda/lib/python3.10/site-packages/scipy/stats/_stats_py.py:1253: RuntimeWarning: divide by zero encountered in divide\n",
      "  var *= np.divide(n, n-ddof)  # to avoid error on division by zero\n",
      "/opt/conda/lib/python3.10/site-packages/scipy/stats/_stats_py.py:1253: RuntimeWarning: invalid value encountered in double_scalars\n",
      "  var *= np.divide(n, n-ddof)  # to avoid error on division by zero\n"
     ]
    }
   ],
   "source": [
    "import scipy.stats as stats\n",
    "\n",
    "\n",
    "sample_mean = 0.25  # Average reaction time\n",
    "sample_std_dev = 0.05  # Standard deviation of reaction time\n",
    "sample_size = 30  # Number of participants\n",
    "\n",
    "# Set the null hypothesis\n",
    "null_hypothesis_mean = 0.24  # Null hypothesis: No significant effect of caffeine on reaction time\n",
    "\n",
    "# Set the confidence level\n",
    "confidence_level = 0.90  # 90% confidence level\n",
    "\n",
    "# Calculate the t-statistic\n",
    "t_statistic, p_value = stats.ttest_1samp([sample_mean], null_hypothesis_mean)\n",
    "\n",
    "\n",
    "print(f\"Sample Mean: {sample_mean}\")\n",
    "print(f\"Sample Standard Deviation: {sample_std_dev}\")\n",
    "print(f\"Sample Size: {sample_size}\")\n",
    "print(f\"Null Hypothesis Mean: {null_hypothesis_mean}\")\n",
    "print(f\"Confidence Level: {confidence_level * 100}%\")\n",
    "print(f\"T-Statistic: {t_statistic:.4f}\")\n",
    "print(f\"P-Value: {p_value:.4f}\")\n",
    "\n",
    "# Compare the p-value to the significance level (alpha) to make a decision\n",
    "alpha = 1 - confidence_level\n",
    "if p_value < alpha:\n",
    "    print(\"Reject the null hypothesis: Caffeine has a significant effect on reaction time.\")\n",
    "else:\n",
    "    print(\"Fail to reject the null hypothesis: Caffeine has no significant effect on reaction time.\")"
   ]
  },
  {
   "cell_type": "code",
   "execution_count": null,
   "id": "7b0287e7-0fc4-44a0-9a85-2115b14e2a0d",
   "metadata": {},
   "outputs": [],
   "source": []
  }
 ],
 "metadata": {
  "kernelspec": {
   "display_name": "Python 3 (ipykernel)",
   "language": "python",
   "name": "python3"
  },
  "language_info": {
   "codemirror_mode": {
    "name": "ipython",
    "version": 3
   },
   "file_extension": ".py",
   "mimetype": "text/x-python",
   "name": "python",
   "nbconvert_exporter": "python",
   "pygments_lexer": "ipython3",
   "version": "3.10.8"
  }
 },
 "nbformat": 4,
 "nbformat_minor": 5
}
